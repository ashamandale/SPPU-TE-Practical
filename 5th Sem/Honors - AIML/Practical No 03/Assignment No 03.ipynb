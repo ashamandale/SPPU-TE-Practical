{
 "cells": [
  {
   "cell_type": "markdown",
   "id": "387b02d2",
   "metadata": {},
   "source": [
    "<h1 align=\"center\">Assignment No :- 03</h1> "
   ]
  },
  {
   "cell_type": "markdown",
   "id": "c3c186c3",
   "metadata": {},
   "source": [
    "# Title\n",
    "Load the dataset: birthwt Risk Factors Associated with Low Infant Birth Weight at\n",
    "https://raw.github.com/neurospin/pystatsml/master/datasets/birthwt.csv\n",
    "\n",
    "1.Test the association of mother’s (age) age and birth weight  (bwt) using the correlation test and linear regeression.\n",
    "\n",
    "2.Test the association of mother’s weight (lwt) and birth weight using the correlation testand linear regeression.\n",
    "\n",
    "3.Produce two scatter plot of: (i) age by birth weight; (ii) mother’s weight by birth weight. Elaborate the Conclusion\n"
   ]
  },
  {
   "cell_type": "code",
   "execution_count": 10,
   "id": "51c2a29d",
   "metadata": {},
   "outputs": [
    {
     "data": {
      "text/html": [
       "<div>\n",
       "<style scoped>\n",
       "    .dataframe tbody tr th:only-of-type {\n",
       "        vertical-align: middle;\n",
       "    }\n",
       "\n",
       "    .dataframe tbody tr th {\n",
       "        vertical-align: top;\n",
       "    }\n",
       "\n",
       "    .dataframe thead th {\n",
       "        text-align: right;\n",
       "    }\n",
       "</style>\n",
       "<table border=\"1\" class=\"dataframe\">\n",
       "  <thead>\n",
       "    <tr style=\"text-align: right;\">\n",
       "      <th></th>\n",
       "      <th>age</th>\n",
       "      <th>lwt</th>\n",
       "      <th>race</th>\n",
       "      <th>smoke</th>\n",
       "      <th>ptl</th>\n",
       "      <th>ht</th>\n",
       "      <th>ui</th>\n",
       "      <th>ftv</th>\n",
       "      <th>bwt</th>\n",
       "    </tr>\n",
       "    <tr>\n",
       "      <th>low</th>\n",
       "      <th></th>\n",
       "      <th></th>\n",
       "      <th></th>\n",
       "      <th></th>\n",
       "      <th></th>\n",
       "      <th></th>\n",
       "      <th></th>\n",
       "      <th></th>\n",
       "      <th></th>\n",
       "    </tr>\n",
       "  </thead>\n",
       "  <tbody>\n",
       "    <tr>\n",
       "      <th>0</th>\n",
       "      <td>19</td>\n",
       "      <td>182</td>\n",
       "      <td>2</td>\n",
       "      <td>0</td>\n",
       "      <td>0</td>\n",
       "      <td>0</td>\n",
       "      <td>1</td>\n",
       "      <td>0</td>\n",
       "      <td>2523</td>\n",
       "    </tr>\n",
       "    <tr>\n",
       "      <th>0</th>\n",
       "      <td>33</td>\n",
       "      <td>155</td>\n",
       "      <td>3</td>\n",
       "      <td>0</td>\n",
       "      <td>0</td>\n",
       "      <td>0</td>\n",
       "      <td>0</td>\n",
       "      <td>3</td>\n",
       "      <td>2551</td>\n",
       "    </tr>\n",
       "    <tr>\n",
       "      <th>0</th>\n",
       "      <td>20</td>\n",
       "      <td>105</td>\n",
       "      <td>1</td>\n",
       "      <td>1</td>\n",
       "      <td>0</td>\n",
       "      <td>0</td>\n",
       "      <td>0</td>\n",
       "      <td>1</td>\n",
       "      <td>2557</td>\n",
       "    </tr>\n",
       "    <tr>\n",
       "      <th>0</th>\n",
       "      <td>21</td>\n",
       "      <td>108</td>\n",
       "      <td>1</td>\n",
       "      <td>1</td>\n",
       "      <td>0</td>\n",
       "      <td>0</td>\n",
       "      <td>1</td>\n",
       "      <td>2</td>\n",
       "      <td>2594</td>\n",
       "    </tr>\n",
       "    <tr>\n",
       "      <th>0</th>\n",
       "      <td>18</td>\n",
       "      <td>107</td>\n",
       "      <td>1</td>\n",
       "      <td>1</td>\n",
       "      <td>0</td>\n",
       "      <td>0</td>\n",
       "      <td>1</td>\n",
       "      <td>0</td>\n",
       "      <td>2600</td>\n",
       "    </tr>\n",
       "  </tbody>\n",
       "</table>\n",
       "</div>"
      ],
      "text/plain": [
       "     age  lwt  race  smoke  ptl  ht  ui  ftv   bwt\n",
       "low                                               \n",
       "0     19  182     2      0    0   0   1    0  2523\n",
       "0     33  155     3      0    0   0   0    3  2551\n",
       "0     20  105     1      1    0   0   0    1  2557\n",
       "0     21  108     1      1    0   0   1    2  2594\n",
       "0     18  107     1      1    0   0   1    0  2600"
      ]
     },
     "execution_count": 10,
     "metadata": {},
     "output_type": "execute_result"
    }
   ],
   "source": [
    "# Importing the libraries\n",
    "import numpy as np\n",
    "import pandas as pd\n",
    "import matplotlib.pyplot as plt\n",
    "from sklearn.linear_model import LinearRegression\n",
    "%matplotlib inline\n",
    "df = pd.read_csv(\"birthwt.csv\",index_col=0) # loading the dataset\n",
    "df.head()\n",
    "#df.info()"
   ]
  },
  {
   "cell_type": "markdown",
   "id": "bf8dc7f5",
   "metadata": {},
   "source": [
    "### Converting Mother's Weight into Ounces"
   ]
  },
  {
   "cell_type": "code",
   "execution_count": 11,
   "id": "0b6ea922",
   "metadata": {},
   "outputs": [
    {
     "data": {
      "text/html": [
       "<div>\n",
       "<style scoped>\n",
       "    .dataframe tbody tr th:only-of-type {\n",
       "        vertical-align: middle;\n",
       "    }\n",
       "\n",
       "    .dataframe tbody tr th {\n",
       "        vertical-align: top;\n",
       "    }\n",
       "\n",
       "    .dataframe thead th {\n",
       "        text-align: right;\n",
       "    }\n",
       "</style>\n",
       "<table border=\"1\" class=\"dataframe\">\n",
       "  <thead>\n",
       "    <tr style=\"text-align: right;\">\n",
       "      <th></th>\n",
       "      <th>age</th>\n",
       "      <th>lwt</th>\n",
       "      <th>race</th>\n",
       "      <th>smoke</th>\n",
       "      <th>ptl</th>\n",
       "      <th>ht</th>\n",
       "      <th>ui</th>\n",
       "      <th>ftv</th>\n",
       "      <th>bwt</th>\n",
       "    </tr>\n",
       "    <tr>\n",
       "      <th>low</th>\n",
       "      <th></th>\n",
       "      <th></th>\n",
       "      <th></th>\n",
       "      <th></th>\n",
       "      <th></th>\n",
       "      <th></th>\n",
       "      <th></th>\n",
       "      <th></th>\n",
       "      <th></th>\n",
       "    </tr>\n",
       "  </thead>\n",
       "  <tbody>\n",
       "    <tr>\n",
       "      <th>0</th>\n",
       "      <td>19</td>\n",
       "      <td>2912</td>\n",
       "      <td>2</td>\n",
       "      <td>0</td>\n",
       "      <td>0</td>\n",
       "      <td>0</td>\n",
       "      <td>1</td>\n",
       "      <td>0</td>\n",
       "      <td>2523</td>\n",
       "    </tr>\n",
       "    <tr>\n",
       "      <th>0</th>\n",
       "      <td>33</td>\n",
       "      <td>2480</td>\n",
       "      <td>3</td>\n",
       "      <td>0</td>\n",
       "      <td>0</td>\n",
       "      <td>0</td>\n",
       "      <td>0</td>\n",
       "      <td>3</td>\n",
       "      <td>2551</td>\n",
       "    </tr>\n",
       "    <tr>\n",
       "      <th>0</th>\n",
       "      <td>20</td>\n",
       "      <td>1680</td>\n",
       "      <td>1</td>\n",
       "      <td>1</td>\n",
       "      <td>0</td>\n",
       "      <td>0</td>\n",
       "      <td>0</td>\n",
       "      <td>1</td>\n",
       "      <td>2557</td>\n",
       "    </tr>\n",
       "    <tr>\n",
       "      <th>0</th>\n",
       "      <td>21</td>\n",
       "      <td>1728</td>\n",
       "      <td>1</td>\n",
       "      <td>1</td>\n",
       "      <td>0</td>\n",
       "      <td>0</td>\n",
       "      <td>1</td>\n",
       "      <td>2</td>\n",
       "      <td>2594</td>\n",
       "    </tr>\n",
       "    <tr>\n",
       "      <th>0</th>\n",
       "      <td>18</td>\n",
       "      <td>1712</td>\n",
       "      <td>1</td>\n",
       "      <td>1</td>\n",
       "      <td>0</td>\n",
       "      <td>0</td>\n",
       "      <td>1</td>\n",
       "      <td>0</td>\n",
       "      <td>2600</td>\n",
       "    </tr>\n",
       "  </tbody>\n",
       "</table>\n",
       "</div>"
      ],
      "text/plain": [
       "     age   lwt  race  smoke  ptl  ht  ui  ftv   bwt\n",
       "low                                                \n",
       "0     19  2912     2      0    0   0   1    0  2523\n",
       "0     33  2480     3      0    0   0   0    3  2551\n",
       "0     20  1680     1      1    0   0   0    1  2557\n",
       "0     21  1728     1      1    0   0   1    2  2594\n",
       "0     18  1712     1      1    0   0   1    0  2600"
      ]
     },
     "execution_count": 11,
     "metadata": {},
     "output_type": "execute_result"
    }
   ],
   "source": [
    "df['lwt'] = df['lwt']*16\n",
    "df.head()"
   ]
  },
  {
   "cell_type": "code",
   "execution_count": 12,
   "id": "63f561d6",
   "metadata": {},
   "outputs": [],
   "source": [
    "def calc_covariance(dataset1,dataset2):\n",
    "    '''\n",
    " Def : Covariance is a measure to indicate the extent to which two random variables change in tandem.\n",
    " Formula : 1) Σ((X - X_mean)*(Y - Y_mean)) ∕ n\n",
    "    '''\n",
    "\n",
    "    mean1 = np.mean(dataset1)\n",
    "    mean2 = np.mean(dataset2)\n",
    "    return np.sum(np.multiply(dataset1-mean1,dataset2-mean2))/len(dataset1)\n",
    "\n",
    "\n",
    "def correlation(dataset1,dataset2):\n",
    "    '''\n",
    " Def : Correlation is a measure used to represent how strongly two random variables are related to each other.\n",
    " Formula : 1) cov(x,y)/(std(x)*std(y))\n",
    " '''\n",
    "    cov =calc_covariance(dataset1,dataset2)\n",
    "    sd1 = np.std(dataset1)\n",
    "    sd2 = np.std(dataset2)\n",
    "    \n",
    "    return cov/(sd1*sd2)\n"
   ]
  },
  {
   "cell_type": "markdown",
   "id": "8afe7f78",
   "metadata": {},
   "source": [
    "## 1. Test the association of mother’s (age) age and birth weight (bwt) using the correlation test and linear regression."
   ]
  },
  {
   "cell_type": "markdown",
   "id": "7ebbb1dc",
   "metadata": {},
   "source": [
    "### Using correlation coefficients test"
   ]
  },
  {
   "cell_type": "code",
   "execution_count": 13,
   "id": "21aa35d2",
   "metadata": {},
   "outputs": [
    {
     "name": "stdout",
     "output_type": "stream",
     "text": [
      "Correlation between Mother's Age and Baby's weight: 0.0903178136685326\n"
     ]
    },
    {
     "data": {
      "image/png": "[encoded data removed]",
      "text/plain": [
       "<Figure size 432x288 with 1 Axes>"
      ]
     },
     "metadata": {
      "needs_background": "light"
     },
     "output_type": "display_data"
    }
   ],
   "source": [
    "# Age of mother\n",
    "age = df[\"age\"]\n",
    "age = age.to_numpy()\n",
    "\n",
    "# Birth weight in ounces\n",
    "birthwt = df[\"bwt\"]\n",
    "birthwt = birthwt.to_numpy()\n",
    "print(\"Correlation between Mother's Age and Baby's weight:\",correlation(age, birthwt))\n",
    "\n",
    "plt.scatter(age,birthwt,c =\"green\")\n",
    "plt.xlabel(\"Age\")\n",
    "plt.ylabel(\"Birth weight (ounces)\")\n",
    "plt.title(\"Mother's Age v Baby's Birth Weight\")\n",
    "plt.show()"
   ]
  },
  {
   "cell_type": "markdown",
   "id": "2de71f1f",
   "metadata": {},
   "source": [
    "__Conclusion:__\n",
    "The correlation value is 0.02 which is very low, this means the correlation is almost non-existent between the maternal age and birth weight.\n"
   ]
  },
  {
   "cell_type": "markdown",
   "id": "334ab31d",
   "metadata": {},
   "source": [
    "### \tUsing simple linear regression :"
   ]
  },
  {
   "cell_type": "code",
   "execution_count": 14,
   "id": "d2fa784b",
   "metadata": {
    "scrolled": true
   },
   "outputs": [
    {
     "name": "stdout",
     "output_type": "stream",
     "text": [
      "Coefficients : 12.429712027714634\n",
      "intercept : 2655.744469705171\n"
     ]
    },
    {
     "data": {
      "image/png": "[encoded data removed]",
      "text/plain": [
       "<Figure size 432x288 with 1 Axes>"
      ]
     },
     "metadata": {
      "needs_background": "light"
     },
     "output_type": "display_data"
    }
   ],
   "source": [
    "lr = LinearRegression()\n",
    "age = age.reshape(-1,1)\n",
    "lr.fit(age,birthwt)     # learning from the dataset  fits the regression line y = mx+c\n",
    "y = lr.predict(age)     # predict birthwt from age\n",
    "print(\"Coefficients :\",lr.coef_[0])\n",
    "print(\"intercept :\",lr.intercept_)\n",
    "plt.plot(age,y,color= \"blue\")        # plotting predictions\n",
    "plt.scatter(age,birthwt,c= \"green\")  # plotting original data \n",
    "plt.xlabel(\"Age\")\n",
    "plt.ylabel(\"Birth weight (ounces)\")\n",
    "plt.title(\"Mother's Age v Baby's Birth Weight\")\n",
    "plt.show()"
   ]
  },
  {
   "cell_type": "markdown",
   "id": "51652575",
   "metadata": {},
   "source": [
    "__Conclusion:__<br>\n",
    "From the plot we can see almost flat regression line, this means baby's birth weight is almost not related to the maternal age.\n"
   ]
  },
  {
   "cell_type": "markdown",
   "id": "02f5e745",
   "metadata": {},
   "source": [
    "## 2. Test the association of mother’s weight (weight) and birth weight (bwt) using the correlation test and linear regeression."
   ]
  },
  {
   "cell_type": "markdown",
   "id": "996c42c3",
   "metadata": {},
   "source": [
    "### Using correlation coefficients test"
   ]
  },
  {
   "cell_type": "code",
   "execution_count": 15,
   "id": "a4ad2f00",
   "metadata": {},
   "outputs": [
    {
     "name": "stdout",
     "output_type": "stream",
     "text": [
      "Correlation between Mother's Weight and Baby's weight: 0.18573328444909912\n"
     ]
    },
    {
     "data": {
      "image/png": "[encoded data removed]",
      "text/plain": [
       "<Figure size 432x288 with 1 Axes>"
      ]
     },
     "metadata": {
      "needs_background": "light"
     },
     "output_type": "display_data"
    }
   ],
   "source": [
    "# Mother's weight during last menstrual period.(in ounces)\n",
    "motherswt = df[\"lwt\"]\n",
    "motherswt =motherswt.to_numpy()\n",
    "\n",
    "# converting in grams to pounds\n",
    "#birthwt = birthwt/454\n",
    "\n",
    "print(\"Correlation between Mother's Weight and Baby's weight:\",correlation(motherswt,birthwt))\n",
    "plt.xlabel(\"Mother's weight (Ounces)\")\n",
    "plt.ylabel(\"Birth weight (Ounces)\")\n",
    "plt.scatter(motherswt,birthwt,c = \"darkblue\")\n",
    "plt.title(\"Mother's Weight v Baby's Birth Weight\")\n",
    "plt.show()"
   ]
  },
  {
   "cell_type": "markdown",
   "id": "d76fc659",
   "metadata": {},
   "source": [
    "__Conclusion:__\n",
    "The correlation value is 0.1559232701870693 which is positive correlation, but the value is small which means that higher the maternal weight better the birth weight of a baby but it has very little impact.\n"
   ]
  },
  {
   "cell_type": "markdown",
   "id": "2c53c4a4",
   "metadata": {},
   "source": [
    "### \tUsing simple linear regression :"
   ]
  },
  {
   "cell_type": "code",
   "execution_count": 16,
   "id": "96325239",
   "metadata": {},
   "outputs": [
    {
     "name": "stdout",
     "output_type": "stream",
     "text": [
      "Coefficients : 0.276819225396919\n",
      "intercept : 2369.623517873997\n"
     ]
    },
    {
     "data": {
      "image/png": "[encoded data removed]",
      "text/plain": [
       "<Figure size 432x288 with 1 Axes>"
      ]
     },
     "metadata": {
      "needs_background": "light"
     },
     "output_type": "display_data"
    }
   ],
   "source": [
    "motherswt =motherswt.reshape(-1,1)\n",
    "lr.fit(motherswt,birthwt)\n",
    "z = lr.predict(motherswt)\n",
    "print(\"Coefficients :\",lr.coef_[0])\n",
    "print(\"intercept :\",lr.intercept_)\n",
    "plt.plot(motherswt,z,c=\"red\")\n",
    "plt.scatter(motherswt,birthwt,c =\"darkblue\")\n",
    "plt.xlabel(\"Mother's weight (Ounces)\")\n",
    "plt.ylabel(\"Birth weight (Ounces)\")\n",
    "plt.title(\"Mother's Weight v Baby's Birth Weight\")\n",
    "plt.show()"
   ]
  },
  {
   "cell_type": "markdown",
   "id": "bc94fb3c",
   "metadata": {},
   "source": [
    "__Conclusion:__<br>\n",
    "1. From the plot we can see a regression line with very small slope of 0.1378.<br>\n",
    "2. This means baby's birth weight increase at very slow rate with respect to the maternal weight.\n"
   ]
  },
  {
   "cell_type": "code",
   "execution_count": null,
   "id": "a146e68e",
   "metadata": {},
   "outputs": [],
   "source": []
  }
 ],
 "metadata": {
  "kernelspec": {
   "display_name": "Python 3 (ipykernel)",
   "language": "python",
   "name": "python3"
  },
  "language_info": {
   "codemirror_mode": {
    "name": "ipython",
    "version": 3
   },
   "file_extension": ".py",
   "mimetype": "text/x-python",
   "name": "python",
   "nbconvert_exporter": "python",
   "pygments_lexer": "ipython3",
   "version": "3.8.10"
  }
 },
 "nbformat": 4,
 "nbformat_minor": 5
}
