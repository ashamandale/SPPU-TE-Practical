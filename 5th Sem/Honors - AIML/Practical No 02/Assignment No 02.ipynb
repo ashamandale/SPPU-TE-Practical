{
 "cells": [
  {
   "cell_type": "markdown",
   "id": "4e0216af",
   "metadata": {},
   "source": [
    "<h1 align=\"center\">Assignment No :- 02</h1> "
   ]
  },
  {
   "cell_type": "markdown",
   "id": "5e7b8a1c",
   "metadata": {},
   "source": [
    "Title :- Plot the Normal Distribution for class test result of a particular subject. Identify the\n",
    "Skewness and Kurtosis"
   ]
  },
  {
   "cell_type": "markdown",
   "id": "c70d816a",
   "metadata": {},
   "source": [
    "# Plotting Normal Distribution"
   ]
  },
  {
   "cell_type": "code",
   "execution_count": 8,
   "id": "4444473e",
   "metadata": {},
   "outputs": [
    {
     "data": {
      "image/png": "[encoded data removed]",
      "text/plain": [
       "<Figure size 432x288 with 1 Axes>"
      ]
     },
     "metadata": {
      "needs_background": "light"
     },
     "output_type": "display_data"
    }
   ],
   "source": [
    "import numpy as np\n",
    "import matplotlib.pyplot as plt\n",
    "import statistics\n",
    "  \n",
    "x = np.arange(-5,5,.01)\n",
    "  \n",
    "# Calculating mean and standard deviation\n",
    "mean = statistics.mean(x)\n",
    "sd = statistics.stdev(x)\n",
    "variance = np.square(sd)\n",
    "\n",
    "f = np.exp(-0.5*np.square(x-mean/sd))/(sd*np.sqrt(2*np.pi))\n",
    "\n",
    "plt.plot(x,f)\n",
    "plt.ylabel('gaussian distribution')\n",
    "plt.show()"
   ]
  },
  {
   "cell_type": "markdown",
   "id": "b52787f6",
   "metadata": {},
   "source": [
    "Using Scipy module"
   ]
  },
  {
   "cell_type": "code",
   "execution_count": 3,
   "id": "c53cc33c",
   "metadata": {},
   "outputs": [
    {
     "data": {
      "image/png": "[encoded data removed]",
      "text/plain": [
       "<Figure size 432x288 with 1 Axes>"
      ]
     },
     "metadata": {
      "needs_background": "light"
     },
     "output_type": "display_data"
    }
   ],
   "source": [
    "import numpy as np\n",
    "import matplotlib.pyplot as plt\n",
    "from scipy.stats import norm\n",
    "import statistics\n",
    "  \n",
    "# Plot between -10 and 10 with .001 steps.\n",
    "x_axis = np.arange(-5,5,.01)\n",
    "  \n",
    "# Calculating mean and standard deviation\n",
    "mean = statistics.mean(x_axis)\n",
    "sd = statistics.stdev(x_axis)\n",
    "  \n",
    "plt.plot(x_axis, norm.pdf(x_axis, mean, sd))\n",
    "plt.show()"
   ]
  },
  {
   "cell_type": "markdown",
   "id": "48f35892",
   "metadata": {},
   "source": [
    "# Lab 2"
   ]
  },
  {
   "cell_type": "markdown",
   "id": "c256085e",
   "metadata": {},
   "source": [
    "Plotting Normal distribution of Test Results for Science subject"
   ]
  },
  {
   "cell_type": "code",
   "execution_count": 9,
   "id": "e2e1c0c9",
   "metadata": {},
   "outputs": [
    {
     "data": {
      "text/html": [
       "<div>\n",
       "<style scoped>\n",
       "    .dataframe tbody tr th:only-of-type {\n",
       "        vertical-align: middle;\n",
       "    }\n",
       "\n",
       "    .dataframe tbody tr th {\n",
       "        vertical-align: top;\n",
       "    }\n",
       "\n",
       "    .dataframe thead th {\n",
       "        text-align: right;\n",
       "    }\n",
       "</style>\n",
       "<table border=\"1\" class=\"dataframe\">\n",
       "  <thead>\n",
       "    <tr style=\"text-align: right;\">\n",
       "      <th></th>\n",
       "      <th>Hindi</th>\n",
       "      <th>English</th>\n",
       "      <th>Science</th>\n",
       "      <th>Maths</th>\n",
       "      <th>History</th>\n",
       "      <th>Geograpgy</th>\n",
       "      <th>Total</th>\n",
       "      <th>Results</th>\n",
       "      <th>Div</th>\n",
       "    </tr>\n",
       "  </thead>\n",
       "  <tbody>\n",
       "    <tr>\n",
       "      <th>count</th>\n",
       "      <td>1000.000000</td>\n",
       "      <td>1000.000000</td>\n",
       "      <td>1000.000000</td>\n",
       "      <td>1000.000000</td>\n",
       "      <td>1000.00000</td>\n",
       "      <td>1000.000000</td>\n",
       "      <td>1000.000000</td>\n",
       "      <td>1000.000000</td>\n",
       "      <td>1000.000000</td>\n",
       "    </tr>\n",
       "    <tr>\n",
       "      <th>mean</th>\n",
       "      <td>51.645000</td>\n",
       "      <td>50.110000</td>\n",
       "      <td>49.440000</td>\n",
       "      <td>49.553000</td>\n",
       "      <td>49.03400</td>\n",
       "      <td>50.028000</td>\n",
       "      <td>299.810000</td>\n",
       "      <td>0.350000</td>\n",
       "      <td>1.856000</td>\n",
       "    </tr>\n",
       "    <tr>\n",
       "      <th>std</th>\n",
       "      <td>29.471912</td>\n",
       "      <td>28.048505</td>\n",
       "      <td>28.921114</td>\n",
       "      <td>28.632447</td>\n",
       "      <td>28.76975</td>\n",
       "      <td>28.710268</td>\n",
       "      <td>71.865239</td>\n",
       "      <td>0.477208</td>\n",
       "      <td>0.904479</td>\n",
       "    </tr>\n",
       "    <tr>\n",
       "      <th>min</th>\n",
       "      <td>0.000000</td>\n",
       "      <td>0.000000</td>\n",
       "      <td>0.000000</td>\n",
       "      <td>0.000000</td>\n",
       "      <td>0.00000</td>\n",
       "      <td>0.000000</td>\n",
       "      <td>103.000000</td>\n",
       "      <td>0.000000</td>\n",
       "      <td>0.000000</td>\n",
       "    </tr>\n",
       "    <tr>\n",
       "      <th>25%</th>\n",
       "      <td>26.000000</td>\n",
       "      <td>26.000000</td>\n",
       "      <td>25.000000</td>\n",
       "      <td>25.750000</td>\n",
       "      <td>24.00000</td>\n",
       "      <td>26.000000</td>\n",
       "      <td>254.000000</td>\n",
       "      <td>0.000000</td>\n",
       "      <td>1.000000</td>\n",
       "    </tr>\n",
       "    <tr>\n",
       "      <th>50%</th>\n",
       "      <td>53.000000</td>\n",
       "      <td>50.500000</td>\n",
       "      <td>50.000000</td>\n",
       "      <td>49.000000</td>\n",
       "      <td>49.00000</td>\n",
       "      <td>49.000000</td>\n",
       "      <td>296.000000</td>\n",
       "      <td>0.000000</td>\n",
       "      <td>2.000000</td>\n",
       "    </tr>\n",
       "    <tr>\n",
       "      <th>75%</th>\n",
       "      <td>77.000000</td>\n",
       "      <td>75.000000</td>\n",
       "      <td>73.250000</td>\n",
       "      <td>74.000000</td>\n",
       "      <td>73.25000</td>\n",
       "      <td>75.000000</td>\n",
       "      <td>349.250000</td>\n",
       "      <td>1.000000</td>\n",
       "      <td>3.000000</td>\n",
       "    </tr>\n",
       "    <tr>\n",
       "      <th>max</th>\n",
       "      <td>99.000000</td>\n",
       "      <td>99.000000</td>\n",
       "      <td>99.000000</td>\n",
       "      <td>99.000000</td>\n",
       "      <td>99.00000</td>\n",
       "      <td>99.000000</td>\n",
       "      <td>505.000000</td>\n",
       "      <td>1.000000</td>\n",
       "      <td>3.000000</td>\n",
       "    </tr>\n",
       "  </tbody>\n",
       "</table>\n",
       "</div>"
      ],
      "text/plain": [
       "             Hindi      English      Science        Maths     History  \\\n",
       "count  1000.000000  1000.000000  1000.000000  1000.000000  1000.00000   \n",
       "mean     51.645000    50.110000    49.440000    49.553000    49.03400   \n",
       "std      29.471912    28.048505    28.921114    28.632447    28.76975   \n",
       "min       0.000000     0.000000     0.000000     0.000000     0.00000   \n",
       "25%      26.000000    26.000000    25.000000    25.750000    24.00000   \n",
       "50%      53.000000    50.500000    50.000000    49.000000    49.00000   \n",
       "75%      77.000000    75.000000    73.250000    74.000000    73.25000   \n",
       "max      99.000000    99.000000    99.000000    99.000000    99.00000   \n",
       "\n",
       "         Geograpgy        Total      Results          Div  \n",
       "count  1000.000000  1000.000000  1000.000000  1000.000000  \n",
       "mean     50.028000   299.810000     0.350000     1.856000  \n",
       "std      28.710268    71.865239     0.477208     0.904479  \n",
       "min       0.000000   103.000000     0.000000     0.000000  \n",
       "25%      26.000000   254.000000     0.000000     1.000000  \n",
       "50%      49.000000   296.000000     0.000000     2.000000  \n",
       "75%      75.000000   349.250000     1.000000     3.000000  \n",
       "max      99.000000   505.000000     1.000000     3.000000  "
      ]
     },
     "execution_count": 9,
     "metadata": {},
     "output_type": "execute_result"
    }
   ],
   "source": [
    "# Importing the necessary libraries\n",
    "import numpy as np\n",
    "import pandas as pd\n",
    "from scipy.stats import kurtosis, skew, norm\n",
    "\n",
    "# loading the dataset\n",
    "df= pd.read_csv('results.csv',index_col=0,dtype=float) # index_col=0 takes 1st column from dataset as index\n",
    "df.describe()"
   ]
  },
  {
   "cell_type": "code",
   "execution_count": 10,
   "id": "541f639a",
   "metadata": {},
   "outputs": [
    {
     "name": "stdout",
     "output_type": "stream",
     "text": [
      "Mean: 49.44\n",
      "Std Dev: 28.921113927904486\n",
      "Variance: 836.4308308308308\n"
     ]
    },
    {
     "data": {
      "image/png": "[encoded data removed]",
      "text/plain": [
       "<Figure size 432x288 with 1 Axes>"
      ]
     },
     "metadata": {
      "needs_background": "light"
     },
     "output_type": "display_data"
    }
   ],
   "source": [
    "import matplotlib.pyplot as plt\n",
    "import seaborn as sns\n",
    "import numpy as np\n",
    "import statistics\n",
    "\n",
    "sub = np.array(df['Science'])   # loading entries of Science subject into sub\n",
    "\n",
    "#print(x)  \n",
    "# Calculating mean and standard deviation\n",
    "mn = statistics.mean(sub)\n",
    "std = statistics.stdev(sub)\n",
    "variance = np.square(std)\n",
    "\n",
    "print(\"Mean:\", mn)\n",
    "print(\"Std Dev:\", std)\n",
    "print(\"Variance:\", variance)\n",
    "\n",
    "#f = np.exp(-0.5*np.square(x-mn/std))/(std*np.sqrt(2*np.pi))\n",
    "\n",
    "#plt.plot(x,f)\n",
    "'''\n",
    "plt.plot(sub,norm.pdf(sub,mn,std))   # from scipy.stats we use norm.pdf\n",
    "plt.xlim([-50, 150])\n",
    "plt.ylim([0, 0.02])\n",
    "plt.title('Normal distribution')\n",
    "'''\n",
    "plt.title('Distribution of Results of Science')\n",
    "sns.kdeplot(sub,shade=True)     # kernel density estimation\n",
    "#sns.kdeplot(df['Maths'])\n",
    "#plt.xlabel('Science Marks')\n",
    "plt.ylabel('Probability Density')\n",
    "plt.show()\n",
    "\n"
   ]
  },
  {
   "cell_type": "markdown",
   "id": "9d5d4554",
   "metadata": {},
   "source": [
    "Skewness and Kurtosis with pandas"
   ]
  },
  {
   "cell_type": "code",
   "execution_count": 11,
   "id": "f58020c4",
   "metadata": {
    "scrolled": true
   },
   "outputs": [
    {
     "name": "stdout",
     "output_type": "stream",
     "text": [
      "Kurtosis for Science:  -1.178566396468201\n",
      "Skewness for Science:  0.008994125306680551\n"
     ]
    }
   ],
   "source": [
    "#calculation skewness and kurtosis for Maths subject\n",
    "ku = df['Science'].kurt()\n",
    "print(\"Kurtosis for Science: \",ku)\n",
    "sk = df['Science'].skew()\n",
    "print(\"Skewness for Science: \",sk)"
   ]
  },
  {
   "cell_type": "markdown",
   "id": "06ff1e3a",
   "metadata": {},
   "source": [
    "Skewness and Kurtosis with scipy.stats"
   ]
  },
  {
   "cell_type": "code",
   "execution_count": 12,
   "id": "825d3782",
   "metadata": {},
   "outputs": [
    {
     "name": "stdout",
     "output_type": "stream",
     "text": [
      "Kurtosis for Science:  -1.178566396468201\n",
      "Skewness for Science:  0.008994125306680551\n"
     ]
    }
   ],
   "source": [
    "print(\"Kurtosis for Science: \",kurtosis(df['Science'],bias=False))   # False bias --> Sample Kurtosis\n",
    "print(\"Skewness for Science: \",skew(df['Science'],bias=False))\n"
   ]
  },
  {
   "cell_type": "markdown",
   "id": "89db8bde",
   "metadata": {},
   "source": [
    "IMPLEMENTING THE FORMULA"
   ]
  },
  {
   "cell_type": "code",
   "execution_count": 13,
   "id": "3ff457c7",
   "metadata": {},
   "outputs": [
    {
     "name": "stdout",
     "output_type": "stream",
     "text": [
      "Popluation Skewness of Science: 0.008980628493454167\n",
      "Population Kurtosis of Science: 1.8213241854399451\n",
      "\n",
      "\n",
      "Sample Skewness of Science: 0.0089941253066806\n",
      "Population Excess Kurtosis of Science: -1.1786758145600549\n",
      "Sample Excess Kurtosis of Science: -1.1785663964682025\n"
     ]
    }
   ],
   "source": [
    "from math import sqrt\n",
    "n= len(sub)   # count of students\n",
    "\n",
    "def moment(data, k):       # calculates kth moment for data\n",
    "  data_mean = sum(data)/len(data)\n",
    "  return sum((d-data_mean)**k for d in data)/len(data)\n",
    "\n",
    "def skw(data):            # uses moment fn to find population skewness\n",
    "  return moment(data, 3)/(moment(data, 2)**1.5)\n",
    "\n",
    "def kurto(data):\n",
    "  return moment(data,4)/(moment(data, 2)**2)\n",
    "\n",
    "print(\"Popluation Skewness of Science:\",skw(sub))\n",
    "print(\"Population Kurtosis of Science:\",kurto(sub))\n",
    "print(\"\\n\")\n",
    "\n",
    "g2 = kurto(sub)-3       # excess kurtosis\n",
    "print(\"Sample Skewness of Science:\",skw(sub)*(sqrt(n*(n-1))/(n-2))) #Sample Skewness:  0.008994125306680551\n",
    "print(\"Population Excess Kurtosis of Science:\",g2) # From library fn Kurtosis for Science:  -1.178566396468201\n",
    "print(\"Sample Excess Kurtosis of Science:\",(6+g2*(n+1))*((n-1)/((n-2)*(n-3)))) "
   ]
  },
  {
   "cell_type": "markdown",
   "id": "aab62e9c",
   "metadata": {},
   "source": [
    "# Conclusion\n",
    "Since both Population and Sample Skewness is very low, data is almost Symmetrical (Very Slightly Right Skewed).\n",
    "\n",
    "Since both Population and Sample Excess Kurtosis is -ve, data distribution is short-tailed (Platykurtic) "
   ]
  },
  {
   "cell_type": "code",
   "execution_count": null,
   "id": "2128c44a",
   "metadata": {},
   "outputs": [],
   "source": []
  }
 ],
 "metadata": {
  "kernelspec": {
   "display_name": "Python 3 (ipykernel)",
   "language": "python",
   "name": "python3"
  },
  "language_info": {
   "codemirror_mode": {
    "name": "ipython",
    "version": 3
   },
   "file_extension": ".py",
   "mimetype": "text/x-python",
   "name": "python",
   "nbconvert_exporter": "python",
   "pygments_lexer": "ipython3",
   "version": "3.8.10"
  }
 },
 "nbformat": 4,
 "nbformat_minor": 5
}
