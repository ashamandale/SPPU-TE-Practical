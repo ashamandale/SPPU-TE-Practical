{
 "cells": [
  {
   "cell_type": "markdown",
   "metadata": {},
   "source": [
    "### Data Visualization I\n",
    "- Use the inbuilt dataset 'titanic'. The dataset contains 891 rows and contains information about the passengers who boarded the unfortunate Titanic ship. Use the Seaborn library to see if we can find any patterns in the data.\n",
    "- Write a code to check how the price of the ticket (column name: 'fare') for each\n",
    "passenger is distributed by plotting a histogram."
   ]
  },
  {
   "cell_type": "markdown",
   "metadata": {},
   "source": [
    "# Titanic: Dataset\n",
    "\n",
    "\n",
    "Workflow: <br>\n",
    "* Exploratory Data Analysis. <br>\n",
    " - Surviving rate\n",
    " - Pclass\n",
    " - Name\n",
    " - Sex\n",
    " - Age\n",
    " - SibSp, Parch\n",
    " - Ticket\n",
    " - Fare\n",
    " - Cabin\n",
    " - Embarked\n",
    "* Feature Engineering  <br>\n",
    " - Imputation on Embarked and Age columns\n",
    " - Title extraction\n",
    " - Ticket first letters\n",
    " - Cabin first letters\n",
    " - Encoding sex column\n",
    " - Family size\n",
    " - One Hot Encoding for all categorical variables\n",
    "* Machine Learning\n",
    " - Split data into train and test sets\n",
    " - Initialize a Random Forest Classifier\n",
    " - Hyperparameter Tuning with Grid Search\n",
    " - Prediction"
   ]
  },
  {
   "cell_type": "code",
   "execution_count": 1,
   "metadata": {},
   "outputs": [],
   "source": [
    "import pandas as pd\n",
    "import numpy as np \n",
    "import matplotlib.pyplot as plt\n",
    "import seaborn as sns\n",
    "import pickle\n",
    "\n",
    "# I will keep the resulting plots\n",
    "%matplotlib inline\n",
    "\n",
    "# Enable Jupyter Notebook's intellisense\n",
    "%config IPCompleter.greedy=True\n",
    "\n",
    "# We want to see whole content (non-truncated)\n",
    "pd.set_option('display.max_colwidth', None)"
   ]
  },
  {
   "cell_type": "markdown",
   "metadata": {},
   "source": [
    "# 1. Exploratory Data Analysis"
   ]
  },
  {
   "cell_type": "code",
   "execution_count": 2,
   "metadata": {},
   "outputs": [
    {
     "data": {
      "text/html": [
       "<div>\n",
       "<style scoped>\n",
       "    .dataframe tbody tr th:only-of-type {\n",
       "        vertical-align: middle;\n",
       "    }\n",
       "\n",
       "    .dataframe tbody tr th {\n",
       "        vertical-align: top;\n",
       "    }\n",
       "\n",
       "    .dataframe thead th {\n",
       "        text-align: right;\n",
       "    }\n",
       "</style>\n",
       "<table border=\"1\" class=\"dataframe\">\n",
       "  <thead>\n",
       "    <tr style=\"text-align: right;\">\n",
       "      <th></th>\n",
       "      <th>PassengerId</th>\n",
       "      <th>Survived</th>\n",
       "      <th>Pclass</th>\n",
       "      <th>Name</th>\n",
       "      <th>Sex</th>\n",
       "      <th>Age</th>\n",
       "      <th>SibSp</th>\n",
       "      <th>Parch</th>\n",
       "      <th>Ticket</th>\n",
       "      <th>Fare</th>\n",
       "      <th>Cabin</th>\n",
       "      <th>Embarked</th>\n",
       "    </tr>\n",
       "  </thead>\n",
       "  <tbody>\n",
       "    <tr>\n",
       "      <th>0</th>\n",
       "      <td>1</td>\n",
       "      <td>0</td>\n",
       "      <td>3</td>\n",
       "      <td>Braund, Mr. Owen Harris</td>\n",
       "      <td>male</td>\n",
       "      <td>22.0</td>\n",
       "      <td>1</td>\n",
       "      <td>0</td>\n",
       "      <td>A/5 21171</td>\n",
       "      <td>7.2500</td>\n",
       "      <td>NaN</td>\n",
       "      <td>S</td>\n",
       "    </tr>\n",
       "    <tr>\n",
       "      <th>1</th>\n",
       "      <td>2</td>\n",
       "      <td>1</td>\n",
       "      <td>1</td>\n",
       "      <td>Cumings, Mrs. John Bradley (Florence Briggs Thayer)</td>\n",
       "      <td>female</td>\n",
       "      <td>38.0</td>\n",
       "      <td>1</td>\n",
       "      <td>0</td>\n",
       "      <td>PC 17599</td>\n",
       "      <td>71.2833</td>\n",
       "      <td>C85</td>\n",
       "      <td>C</td>\n",
       "    </tr>\n",
       "    <tr>\n",
       "      <th>2</th>\n",
       "      <td>3</td>\n",
       "      <td>1</td>\n",
       "      <td>3</td>\n",
       "      <td>Heikkinen, Miss. Laina</td>\n",
       "      <td>female</td>\n",
       "      <td>26.0</td>\n",
       "      <td>0</td>\n",
       "      <td>0</td>\n",
       "      <td>STON/O2. 3101282</td>\n",
       "      <td>7.9250</td>\n",
       "      <td>NaN</td>\n",
       "      <td>S</td>\n",
       "    </tr>\n",
       "    <tr>\n",
       "      <th>3</th>\n",
       "      <td>4</td>\n",
       "      <td>1</td>\n",
       "      <td>1</td>\n",
       "      <td>Futrelle, Mrs. Jacques Heath (Lily May Peel)</td>\n",
       "      <td>female</td>\n",
       "      <td>35.0</td>\n",
       "      <td>1</td>\n",
       "      <td>0</td>\n",
       "      <td>113803</td>\n",
       "      <td>53.1000</td>\n",
       "      <td>C123</td>\n",
       "      <td>S</td>\n",
       "    </tr>\n",
       "    <tr>\n",
       "      <th>4</th>\n",
       "      <td>5</td>\n",
       "      <td>0</td>\n",
       "      <td>3</td>\n",
       "      <td>Allen, Mr. William Henry</td>\n",
       "      <td>male</td>\n",
       "      <td>35.0</td>\n",
       "      <td>0</td>\n",
       "      <td>0</td>\n",
       "      <td>373450</td>\n",
       "      <td>8.0500</td>\n",
       "      <td>NaN</td>\n",
       "      <td>S</td>\n",
       "    </tr>\n",
       "  </tbody>\n",
       "</table>\n",
       "</div>"
      ],
      "text/plain": [
       "   PassengerId  Survived  Pclass  \\\n",
       "0            1         0       3   \n",
       "1            2         1       1   \n",
       "2            3         1       3   \n",
       "3            4         1       1   \n",
       "4            5         0       3   \n",
       "\n",
       "                                                  Name     Sex   Age  SibSp  \\\n",
       "0                              Braund, Mr. Owen Harris    male  22.0      1   \n",
       "1  Cumings, Mrs. John Bradley (Florence Briggs Thayer)  female  38.0      1   \n",
       "2                               Heikkinen, Miss. Laina  female  26.0      0   \n",
       "3         Futrelle, Mrs. Jacques Heath (Lily May Peel)  female  35.0      1   \n",
       "4                             Allen, Mr. William Henry    male  35.0      0   \n",
       "\n",
       "   Parch            Ticket     Fare Cabin Embarked  \n",
       "0      0         A/5 21171   7.2500   NaN        S  \n",
       "1      0          PC 17599  71.2833   C85        C  \n",
       "2      0  STON/O2. 3101282   7.9250   NaN        S  \n",
       "3      0            113803  53.1000  C123        S  \n",
       "4      0            373450   8.0500   NaN        S  "
      ]
     },
     "metadata": {},
     "output_type": "display_data"
    },
    {
     "name": "stdout",
     "output_type": "stream",
     "text": [
      "<class 'pandas.core.frame.DataFrame'>\n",
      "RangeIndex: 891 entries, 0 to 890\n",
      "Data columns (total 12 columns):\n",
      " #   Column       Non-Null Count  Dtype  \n",
      "---  ------       --------------  -----  \n",
      " 0   PassengerId  891 non-null    int64  \n",
      " 1   Survived     891 non-null    int64  \n",
      " 2   Pclass       891 non-null    int64  \n",
      " 3   Name         891 non-null    object \n",
      " 4   Sex          891 non-null    object \n",
      " 5   Age          714 non-null    float64\n",
      " 6   SibSp        891 non-null    int64  \n",
      " 7   Parch        891 non-null    int64  \n",
      " 8   Ticket       891 non-null    object \n",
      " 9   Fare         891 non-null    float64\n",
      " 10  Cabin        204 non-null    object \n",
      " 11  Embarked     889 non-null    object \n",
      "dtypes: float64(2), int64(5), object(5)\n",
      "memory usage: 83.7+ KB\n",
      "None\n",
      "<class 'pandas.core.frame.DataFrame'>\n",
      "RangeIndex: 891 entries, 0 to 890\n",
      "Data columns (total 12 columns):\n",
      " #   Column       Non-Null Count  Dtype  \n",
      "---  ------       --------------  -----  \n",
      " 0   PassengerId  891 non-null    int64  \n",
      " 1   Survived     891 non-null    int64  \n",
      " 2   Pclass       891 non-null    int64  \n",
      " 3   Name         891 non-null    object \n",
      " 4   Sex          891 non-null    object \n",
      " 5   Age          714 non-null    float64\n",
      " 6   SibSp        891 non-null    int64  \n",
      " 7   Parch        891 non-null    int64  \n",
      " 8   Ticket       891 non-null    object \n",
      " 9   Fare         891 non-null    float64\n",
      " 10  Cabin        204 non-null    object \n",
      " 11  Embarked     889 non-null    object \n",
      "dtypes: float64(2), int64(5), object(5)\n",
      "memory usage: 83.7+ KB\n",
      "None\n",
      "       PassengerId    Survived      Pclass         Age       SibSp  \\\n",
      "count   891.000000  891.000000  891.000000  714.000000  891.000000   \n",
      "mean    446.000000    0.383838    2.308642   29.699118    0.523008   \n",
      "std     257.353842    0.486592    0.836071   14.526497    1.102743   \n",
      "min       1.000000    0.000000    1.000000    0.420000    0.000000   \n",
      "25%     223.500000    0.000000    2.000000   20.125000    0.000000   \n",
      "50%     446.000000    0.000000    3.000000   28.000000    0.000000   \n",
      "75%     668.500000    1.000000    3.000000   38.000000    1.000000   \n",
      "max     891.000000    1.000000    3.000000   80.000000    8.000000   \n",
      "\n",
      "            Parch        Fare  \n",
      "count  891.000000  891.000000  \n",
      "mean     0.381594   32.204208  \n",
      "std      0.806057   49.693429  \n",
      "min      0.000000    0.000000  \n",
      "25%      0.000000    7.910400  \n",
      "50%      0.000000   14.454200  \n",
      "75%      0.000000   31.000000  \n",
      "max      6.000000  512.329200  \n"
     ]
    }
   ],
   "source": [
    "train = pd.read_csv(\"train.csv\")\n",
    "\n",
    "display(train.head())\n",
    "\n",
    "print(train.info())\n",
    "print(train.info())\n",
    "print(train.describe())"
   ]
  },
  {
   "cell_type": "markdown",
   "metadata": {},
   "source": [
    "Notes: <br>\n",
    "* There are some missing values in Age, Embarked and Cabin columns. <br>\n",
    "* We do not need PassengerId column\n",
    "* The surviving rate is 38.3% in our dataset"
   ]
  },
  {
   "cell_type": "markdown",
   "metadata": {},
   "source": [
    "## Survived\n",
    "\n",
    "Let's start with Survived column. It contains integer 1 or 0 which correspond to surviving ( 1 = Survived, 0 = Not Survived)"
   ]
  },
  {
   "cell_type": "code",
   "execution_count": 3,
   "metadata": {},
   "outputs": [
    {
     "data": {
      "image/png": "[encoded data removed]",
      "text/plain": [
       "<Figure size 432x288 with 1 Axes>"
      ]
     },
     "metadata": {
      "needs_background": "light"
     },
     "output_type": "display_data"
    },
    {
     "name": "stdout",
     "output_type": "stream",
     "text": [
      "0    0.616162\n",
      "1    0.383838\n",
      "Name: Survived, dtype: float64\n"
     ]
    }
   ],
   "source": [
    "# Visualize with a countplot\n",
    "sns.countplot(x=\"Survived\", data=train)\n",
    "plt.show()\n",
    "\n",
    "# Print the proportions\n",
    "print(train[\"Survived\"].value_counts(normalize=True))"
   ]
  },
  {
   "cell_type": "markdown",
   "metadata": {},
   "source": [
    "## Pclass\n",
    "\n",
    "Pclass column contains the socioeconomic status of the passengers. It might be predictive for our model  <br>\n",
    "1 = Upper <br>\n",
    "2 = Middle <br>\n",
    "3 = Lower"
   ]
  },
  {
   "cell_type": "code",
   "execution_count": 4,
   "metadata": {},
   "outputs": [
    {
     "data": {
      "image/png": "[encoded data removed]",
      "text/plain": [
       "<Figure size 432x288 with 1 Axes>"
      ]
     },
     "metadata": {
      "needs_background": "light"
     },
     "output_type": "display_data"
    },
    {
     "name": "stdout",
     "output_type": "stream",
     "text": [
      "Pclass\n",
      "1    0.629630\n",
      "2    0.472826\n",
      "3    0.242363\n",
      "Name: Survived, dtype: float64\n",
      "3    491\n",
      "1    216\n",
      "2    184\n",
      "Name: Pclass, dtype: int64\n"
     ]
    }
   ],
   "source": [
    "# Visualize with a countplot\n",
    "sns.countplot(x=\"Pclass\", hue=\"Survived\", data=train)\n",
    "plt.show()\n",
    "\n",
    "# Proportion of people survived for each class\n",
    "print(train[\"Survived\"].groupby(train[\"Pclass\"]).mean())\n",
    "\n",
    "# How many people we have in each class?\n",
    "print(train[\"Pclass\"].value_counts())"
   ]
  },
  {
   "cell_type": "markdown",
   "metadata": {},
   "source": [
    "As I expected, first class passengers have higher surviving rate. We will use this information in our training data."
   ]
  },
  {
   "cell_type": "markdown",
   "metadata": {},
   "source": [
    "## Name\n",
    "\n",
    "At a first glance, I thought that I would use the titles."
   ]
  },
  {
   "cell_type": "code",
   "execution_count": 5,
   "metadata": {},
   "outputs": [
    {
     "data": {
      "text/html": [
       "<div>\n",
       "<style scoped>\n",
       "    .dataframe tbody tr th:only-of-type {\n",
       "        vertical-align: middle;\n",
       "    }\n",
       "\n",
       "    .dataframe tbody tr th {\n",
       "        vertical-align: top;\n",
       "    }\n",
       "\n",
       "    .dataframe thead th {\n",
       "        text-align: right;\n",
       "    }\n",
       "</style>\n",
       "<table border=\"1\" class=\"dataframe\">\n",
       "  <thead>\n",
       "    <tr style=\"text-align: right;\">\n",
       "      <th></th>\n",
       "      <th>Name</th>\n",
       "    </tr>\n",
       "  </thead>\n",
       "  <tbody>\n",
       "    <tr>\n",
       "      <th>0</th>\n",
       "      <td>Braund, Mr. Owen Harris</td>\n",
       "    </tr>\n",
       "    <tr>\n",
       "      <th>1</th>\n",
       "      <td>Cumings, Mrs. John Bradley (Florence Briggs Thayer)</td>\n",
       "    </tr>\n",
       "    <tr>\n",
       "      <th>2</th>\n",
       "      <td>Heikkinen, Miss. Laina</td>\n",
       "    </tr>\n",
       "    <tr>\n",
       "      <th>3</th>\n",
       "      <td>Futrelle, Mrs. Jacques Heath (Lily May Peel)</td>\n",
       "    </tr>\n",
       "    <tr>\n",
       "      <th>4</th>\n",
       "      <td>Allen, Mr. William Henry</td>\n",
       "    </tr>\n",
       "  </tbody>\n",
       "</table>\n",
       "</div>"
      ],
      "text/plain": [
       "                                                  Name\n",
       "0                              Braund, Mr. Owen Harris\n",
       "1  Cumings, Mrs. John Bradley (Florence Briggs Thayer)\n",
       "2                               Heikkinen, Miss. Laina\n",
       "3         Futrelle, Mrs. Jacques Heath (Lily May Peel)\n",
       "4                             Allen, Mr. William Henry"
      ]
     },
     "metadata": {},
     "output_type": "display_data"
    }
   ],
   "source": [
    "# Display first five rows of the Name column\n",
    "display(train[[\"Name\"]].head())"
   ]
  },
  {
   "cell_type": "markdown",
   "metadata": {},
   "source": [
    "We can extract the titles from names."
   ]
  },
  {
   "cell_type": "code",
   "execution_count": 6,
   "metadata": {},
   "outputs": [
    {
     "name": "stdout",
     "output_type": "stream",
     "text": [
      "Mr              517\n",
      "Miss            182\n",
      "Mrs             125\n",
      "Master           40\n",
      "Dr                7\n",
      "Rev               6\n",
      "Mlle              2\n",
      "Major             2\n",
      "Col               2\n",
      "the Countess      1\n",
      "Capt              1\n",
      "Ms                1\n",
      "Sir               1\n",
      "Lady              1\n",
      "Mme               1\n",
      "Don               1\n",
      "Jonkheer          1\n",
      "Name: Title, dtype: int64\n"
     ]
    }
   ],
   "source": [
    "# Get titles\n",
    "train[\"Title\"] = train['Name'].str.split(', ', expand=True)[1].str.split('.', expand=True)[0]\n",
    "\n",
    "# Print title counts\n",
    "print(train[\"Title\"].value_counts())"
   ]
  },
  {
   "cell_type": "markdown",
   "metadata": {},
   "source": [
    "Is there any relationship between titles and surviving"
   ]
  },
  {
   "cell_type": "code",
   "execution_count": 7,
   "metadata": {},
   "outputs": [
    {
     "name": "stdout",
     "output_type": "stream",
     "text": [
      "Title\n",
      "the Countess    1.000000\n",
      "Mlle            1.000000\n",
      "Sir             1.000000\n",
      "Ms              1.000000\n",
      "Lady            1.000000\n",
      "Mme             1.000000\n",
      "Mrs             0.792000\n",
      "Miss            0.697802\n",
      "Master          0.575000\n",
      "Col             0.500000\n",
      "Major           0.500000\n",
      "Dr              0.428571\n",
      "Mr              0.156673\n",
      "Jonkheer        0.000000\n",
      "Rev             0.000000\n",
      "Don             0.000000\n",
      "Capt            0.000000\n",
      "Name: Survived, dtype: float64\n"
     ]
    }
   ],
   "source": [
    "# Print the Surviving rates by title\n",
    "print(train[\"Survived\"].groupby(train[\"Title\"]).mean().sort_values(ascending=False))"
   ]
  },
  {
   "cell_type": "markdown",
   "metadata": {},
   "source": [
    "Apparently, there is relationship between titles and surviving rate. In feature engineering part, I will group title by their surviving rates like following <br>\n",
    "\n",
    "**higher**  = the Countess, Mlle, Lady, Ms , Sir, Mme, Mrs, Miss, Master <br>\n",
    "**neutral** = Major, Col, Dr <br> \n",
    "**lower**   = Mr, Rev, Jonkheer, Don, Capt <br>"
   ]
  },
  {
   "cell_type": "markdown",
   "metadata": {},
   "source": [
    "## Age"
   ]
  },
  {
   "cell_type": "code",
   "execution_count": 8,
   "metadata": {},
   "outputs": [
    {
     "name": "stdout",
     "output_type": "stream",
     "text": [
      "177\n"
     ]
    }
   ],
   "source": [
    "# Print the missing values in Age column\n",
    "print(train[\"Age\"].isnull().sum())"
   ]
  },
  {
   "cell_type": "markdown",
   "metadata": {},
   "source": [
    "There are 177 missing values in Age column, we will impute them in Feature engineering part. Now, let's look at the distribution of ages by surviving"
   ]
  },
  {
   "cell_type": "code",
   "execution_count": 9,
   "metadata": {},
   "outputs": [
    {
     "name": "stderr",
     "output_type": "stream",
     "text": [
      "/home/ihack-pc/.local/lib/python3.8/site-packages/seaborn/distributions.py:2619: FutureWarning: `distplot` is a deprecated function and will be removed in a future version. Please adapt your code to use either `displot` (a figure-level function with similar flexibility) or `histplot` (an axes-level function for histograms).\n",
      "  warnings.warn(msg, FutureWarning)\n",
      "/home/ihack-pc/.local/lib/python3.8/site-packages/seaborn/distributions.py:2619: FutureWarning: `distplot` is a deprecated function and will be removed in a future version. Please adapt your code to use either `displot` (a figure-level function with similar flexibility) or `histplot` (an axes-level function for histograms).\n",
      "  warnings.warn(msg, FutureWarning)\n"
     ]
    },
    {
     "data": {
      "image/png": "[encoded data removed]",
      "text/plain": [
       "<Figure size 432x288 with 1 Axes>"
      ]
     },
     "metadata": {
      "needs_background": "light"
     },
     "output_type": "display_data"
    }
   ],
   "source": [
    "# Survived by age\n",
    "sns.distplot(train[train.Survived==1][\"Age\"],color=\"y\", bins=7, label=\"1\")\n",
    "\n",
    "# Death by age\n",
    "sns.distplot(train[train.Survived==0][\"Age\"], bins=7, label=\"0\")\n",
    "plt.legend()\n",
    "plt.title(\"Age Distribution\")\n",
    "plt.show()"
   ]
  },
  {
   "cell_type": "markdown",
   "metadata": {},
   "source": [
    "## Sex\n",
    "\n",
    "Is sex important for surviving?"
   ]
  },
  {
   "cell_type": "code",
   "execution_count": 10,
   "metadata": {},
   "outputs": [
    {
     "data": {
      "image/png": "[encoded data removed]",
      "text/plain": [
       "<Figure size 432x288 with 1 Axes>"
      ]
     },
     "metadata": {
      "needs_background": "light"
     },
     "output_type": "display_data"
    },
    {
     "name": "stdout",
     "output_type": "stream",
     "text": [
      "Sex\n",
      "female    0.742038\n",
      "male      0.188908\n",
      "Name: Survived, dtype: float64\n",
      "male      577\n",
      "female    314\n",
      "Name: Sex, dtype: int64\n"
     ]
    }
   ],
   "source": [
    "# Visualize with a countplot\n",
    "sns.countplot(x=\"Sex\", hue=\"Survived\", data=train)\n",
    "plt.show()\n",
    "\n",
    "# Proportion of people survived for each class\n",
    "print(train[\"Survived\"].groupby(train[\"Sex\"]).mean())\n",
    "\n",
    "# How many people we have in each class?\n",
    "print(train[\"Sex\"].value_counts())"
   ]
  },
  {
   "cell_type": "markdown",
   "metadata": {},
   "source": [
    "Obviously, there is a relationship between sex and surviving."
   ]
  },
  {
   "cell_type": "markdown",
   "metadata": {},
   "source": [
    "## SibSp & Parch"
   ]
  },
  {
   "cell_type": "markdown",
   "metadata": {},
   "source": [
    "SibSp = Sibling or Spouse number <br>\n",
    "Parch = Parent or Children number <br>\n",
    "\n",
    "I decided to make a new feature called family size by summing the SibSp and Parch columns"
   ]
  },
  {
   "cell_type": "code",
   "execution_count": 11,
   "metadata": {},
   "outputs": [
    {
     "name": "stdout",
     "output_type": "stream",
     "text": [
      "0    608\n",
      "1    209\n",
      "2     28\n",
      "4     18\n",
      "3     16\n",
      "8      7\n",
      "5      5\n",
      "Name: SibSp, dtype: int64\n",
      "0    678\n",
      "1    118\n",
      "2     80\n",
      "5      5\n",
      "3      5\n",
      "4      4\n",
      "6      1\n",
      "Name: Parch, dtype: int64\n",
      "0     537\n",
      "1     161\n",
      "2     102\n",
      "3      29\n",
      "5      22\n",
      "4      15\n",
      "6      12\n",
      "10      7\n",
      "7       6\n",
      "Name: family_size, dtype: int64\n",
      "family_size\n",
      "3     0.724138\n",
      "2     0.578431\n",
      "1     0.552795\n",
      "6     0.333333\n",
      "0     0.303538\n",
      "4     0.200000\n",
      "5     0.136364\n",
      "7     0.000000\n",
      "10    0.000000\n",
      "Name: Survived, dtype: float64\n"
     ]
    }
   ],
   "source": [
    "print(train[\"SibSp\"].value_counts())\n",
    "\n",
    "print(train[\"Parch\"].value_counts())\n",
    "\n",
    "train[\"family_size\"] = train[\"SibSp\"] + train[\"Parch\"]\n",
    "\n",
    "print(train[\"family_size\"].value_counts())\n",
    "\n",
    "# Proportion of people survived for each class\n",
    "print(train[\"Survived\"].groupby(train[\"family_size\"]).mean().sort_values(ascending=False))"
   ]
  },
  {
   "cell_type": "markdown",
   "metadata": {},
   "source": [
    "Apparently, family size is important to survive. I am going to group them in feature engineering step like following <br>\n",
    "\n",
    "**big family**  = if family size > 3 <br>\n",
    "**small family** = if family size > 0 and family size < =3<br> \n",
    "**alone**   = family size == 0 <br>"
   ]
  },
  {
   "cell_type": "markdown",
   "metadata": {},
   "source": [
    "## Ticket"
   ]
  },
  {
   "cell_type": "markdown",
   "metadata": {},
   "source": [
    "At first, I thought that I would drop this column but after exploration I found useful features."
   ]
  },
  {
   "cell_type": "code",
   "execution_count": 12,
   "metadata": {},
   "outputs": [
    {
     "name": "stdout",
     "output_type": "stream",
     "text": [
      "0            A/5 21171\n",
      "1             PC 17599\n",
      "2     STON/O2. 3101282\n",
      "3               113803\n",
      "4               373450\n",
      "5               330877\n",
      "6                17463\n",
      "7               349909\n",
      "8               347742\n",
      "9               237736\n",
      "10             PP 9549\n",
      "11              113783\n",
      "12           A/5. 2151\n",
      "13              347082\n",
      "14              350406\n",
      "Name: Ticket, dtype: object\n"
     ]
    }
   ],
   "source": [
    "# Print the first five rows of the Ticket column\n",
    "print(train[\"Ticket\"].head(15))"
   ]
  },
  {
   "cell_type": "markdown",
   "metadata": {},
   "source": [
    "I extracted only first letters of the tickets because I thought that they would indicate the ticket type."
   ]
  },
  {
   "cell_type": "code",
   "execution_count": 13,
   "metadata": {},
   "outputs": [
    {
     "name": "stdout",
     "output_type": "stream",
     "text": [
      "3    301\n",
      "2    183\n",
      "1    146\n",
      "P     65\n",
      "S     65\n",
      "C     47\n",
      "A     29\n",
      "W     13\n",
      "4     10\n",
      "7      9\n",
      "F      7\n",
      "6      6\n",
      "L      4\n",
      "5      3\n",
      "8      2\n",
      "9      1\n",
      "Name: Ticket_first, dtype: int64\n",
      "Ticket_first\n",
      "9    1.000000\n",
      "P    0.646154\n",
      "1    0.630137\n",
      "F    0.571429\n",
      "2    0.464481\n",
      "C    0.340426\n",
      "S    0.323077\n",
      "L    0.250000\n",
      "3    0.239203\n",
      "4    0.200000\n",
      "6    0.166667\n",
      "W    0.153846\n",
      "7    0.111111\n",
      "A    0.068966\n",
      "5    0.000000\n",
      "8    0.000000\n",
      "Name: Survived, dtype: float64\n"
     ]
    }
   ],
   "source": [
    "# Get first letters of the tickets\n",
    "train[\"Ticket_first\"] = train[\"Ticket\"].apply(lambda x: str(x)[0])\n",
    "\n",
    "# Print value counts\n",
    "print(train[\"Ticket_first\"].value_counts())\n",
    "\n",
    "# Surviving rates of first letters\n",
    "print(train.groupby(\"Ticket_first\")[\"Survived\"].mean().sort_values(ascending=False))"
   ]
  },
  {
   "cell_type": "markdown",
   "metadata": {},
   "source": [
    "The first letters of the tickets are correlated with surviving rate somehow. I am going to group them like following\n",
    "\n",
    "**higher surviving rate**  = F, 1, P , 9 <br>\n",
    "**neutral** = S, C, 2 <br> \n",
    "**lower surviving rate**   = else <br>"
   ]
  },
  {
   "cell_type": "markdown",
   "metadata": {},
   "source": [
    "## Fare"
   ]
  },
  {
   "cell_type": "markdown",
   "metadata": {},
   "source": [
    "We can plot a histogram to see Fare distribution"
   ]
  },
  {
   "cell_type": "code",
   "execution_count": 14,
   "metadata": {},
   "outputs": [
    {
     "name": "stdout",
     "output_type": "stream",
     "text": [
      "(-0.512, 170.776]     871\n",
      "(170.776, 341.553]     17\n",
      "(341.553, 512.329]      3\n",
      "Name: Fare, dtype: int64\n"
     ]
    },
    {
     "name": "stderr",
     "output_type": "stream",
     "text": [
      "/home/ihack-pc/.local/lib/python3.8/site-packages/seaborn/distributions.py:2619: FutureWarning: `distplot` is a deprecated function and will be removed in a future version. Please adapt your code to use either `displot` (a figure-level function with similar flexibility) or `histplot` (an axes-level function for histograms).\n",
      "  warnings.warn(msg, FutureWarning)\n"
     ]
    },
    {
     "data": {
      "image/png": "[encoded data removed]",
      "text/plain": [
       "<Figure size 432x288 with 1 Axes>"
      ]
     },
     "metadata": {
      "needs_background": "light"
     },
     "output_type": "display_data"
    },
    {
     "name": "stdout",
     "output_type": "stream",
     "text": [
      "Fare\n",
      "(-0.512, 170.776]     0.376579\n",
      "(170.776, 341.553]    0.647059\n",
      "(341.553, 512.329]    1.000000\n",
      "Name: Survived, dtype: float64\n"
     ]
    }
   ],
   "source": [
    "# Print 3 bins of Fare column\n",
    "print(pd.cut(train['Fare'], 3).value_counts())\n",
    "\n",
    "# Plot the histogram\n",
    "sns.distplot(train[\"Fare\"])\n",
    "plt.show()\n",
    "\n",
    "# Print binned Fares by surviving rate\n",
    "print(train['Survived'].groupby(pd.cut(train['Fare'], 3)).mean())"
   ]
  },
  {
   "cell_type": "markdown",
   "metadata": {},
   "source": [
    "There is also a correlation between ticket fares and surviving"
   ]
  },
  {
   "cell_type": "markdown",
   "metadata": {},
   "source": [
    "## Cabin"
   ]
  },
  {
   "cell_type": "markdown",
   "metadata": {},
   "source": [
    "<img src=\"./images/titanic.png\" width=\"1000\" height=\"500\">"
   ]
  },
  {
   "cell_type": "markdown",
   "metadata": {},
   "source": [
    "I found this figure [wikiwand.com](https://www.wikiwand.com/en/Sinking_of_the_Titanic). The figure shows us the most affacted parts of the Titanic and the Cabin locations. Although there are many missing value in Cabin column, I decided to extract the Cabin information to try whether it works or not."
   ]
  },
  {
   "cell_type": "code",
   "execution_count": 15,
   "metadata": {},
   "outputs": [
    {
     "name": "stdout",
     "output_type": "stream",
     "text": [
      "[nan 'C85' 'C123' 'E46' 'G6' 'C103' 'D56' 'A6' 'C23 C25 C27' 'B78' 'D33'\n",
      " 'B30' 'C52' 'B28' 'C83' 'F33' 'F G73' 'E31' 'A5' 'D10 D12' 'D26' 'C110'\n",
      " 'B58 B60' 'E101' 'F E69' 'D47' 'B86' 'F2' 'C2' 'E33' 'B19' 'A7' 'C49'\n",
      " 'F4' 'A32' 'B4' 'B80' 'A31' 'D36' 'D15' 'C93' 'C78' 'D35' 'C87' 'B77'\n",
      " 'E67' 'B94' 'C125' 'C99' 'C118' 'D7' 'A19' 'B49' 'D' 'C22 C26' 'C106'\n",
      " 'C65' 'E36' 'C54' 'B57 B59 B63 B66' 'C7' 'E34' 'C32' 'B18' 'C124' 'C91'\n",
      " 'E40' 'T' 'C128' 'D37' 'B35' 'E50' 'C82' 'B96 B98' 'E10' 'E44' 'A34'\n",
      " 'C104' 'C111' 'C92' 'E38' 'D21' 'E12' 'E63' 'A14' 'B37' 'C30' 'D20' 'B79'\n",
      " 'E25' 'D46' 'B73' 'C95' 'B38' 'B39' 'B22' 'C86' 'C70' 'A16' 'C101' 'C68'\n",
      " 'A10' 'E68' 'B41' 'A20' 'D19' 'D50' 'D9' 'A23' 'B50' 'A26' 'D48' 'E58'\n",
      " 'C126' 'B71' 'B51 B53 B55' 'D49' 'B5' 'B20' 'F G63' 'C62 C64' 'E24' 'C90'\n",
      " 'C45' 'E8' 'B101' 'D45' 'C46' 'D30' 'E121' 'D11' 'E77' 'F38' 'B3' 'D6'\n",
      " 'B82 B84' 'D17' 'A36' 'B102' 'B69' 'E49' 'C47' 'D28' 'E17' 'A24' 'C50'\n",
      " 'B42' 'C148']\n",
      "n    687\n",
      "C     59\n",
      "B     47\n",
      "D     33\n",
      "E     32\n",
      "A     15\n",
      "F     13\n",
      "G      4\n",
      "T      1\n",
      "Name: Cabin_first, dtype: int64\n",
      "Cabin_first\n",
      "D    0.757576\n",
      "E    0.750000\n",
      "B    0.744681\n",
      "F    0.615385\n",
      "C    0.593220\n",
      "G    0.500000\n",
      "A    0.466667\n",
      "n    0.299854\n",
      "T    0.000000\n",
      "Name: Survived, dtype: float64\n"
     ]
    }
   ],
   "source": [
    "# Print the unique values in the Cabin column\n",
    "print(train[\"Cabin\"].unique())\n",
    "\n",
    "# Get the first letters of Cabins\n",
    "train[\"Cabin_first\"] = train[\"Cabin\"].apply(lambda x: str(x)[0])\n",
    "\n",
    "# Print value counts of first letters\n",
    "print(train[\"Cabin_first\"].value_counts())\n",
    "\n",
    "# Surviving rate of Cabin first letters\n",
    "print(train.groupby(\"Cabin_first\")[\"Survived\"].mean().sort_values(ascending=False))"
   ]
  },
  {
   "cell_type": "markdown",
   "metadata": {},
   "source": [
    "According to surviving rates. I will group the Cabins like following\n",
    "\n",
    "**higher surviving rate**  = D, E, B, F, C <br>\n",
    "**neutral** = G, A<br> \n",
    "**lower surviving rate**   else <br>"
   ]
  },
  {
   "cell_type": "markdown",
   "metadata": {},
   "source": [
    "## Embarked"
   ]
  },
  {
   "cell_type": "markdown",
   "metadata": {},
   "source": [
    "Embarked is a categorical features which shows us the port of embarkation. <br>\n",
    "\n",
    "C = Cherbourg, Q = Queenstown, S = Southampton"
   ]
  },
  {
   "cell_type": "code",
   "execution_count": 16,
   "metadata": {},
   "outputs": [
    {
     "data": {
      "image/png": "[encoded data removed]",
      "text/plain": [
       "<Figure size 432x288 with 1 Axes>"
      ]
     },
     "metadata": {
      "needs_background": "light"
     },
     "output_type": "display_data"
    },
    {
     "name": "stdout",
     "output_type": "stream",
     "text": [
      "S    644\n",
      "C    168\n",
      "Q     77\n",
      "Name: Embarked, dtype: int64\n",
      "Embarked\n",
      "C    0.553571\n",
      "Q    0.389610\n",
      "S    0.336957\n",
      "Name: Survived, dtype: float64\n"
     ]
    }
   ],
   "source": [
    "# Make a countplot\n",
    "sns.countplot(x=\"Embarked\", hue=\"Survived\", data=train)\n",
    "plt.show()\n",
    "\n",
    "# Print the value counts\n",
    "print(train[\"Embarked\"].value_counts())\n",
    "\n",
    "# Surviving rates of Embarked\n",
    "print(train[\"Survived\"].groupby(train[\"Embarked\"]).mean())"
   ]
  },
  {
   "cell_type": "markdown",
   "metadata": {},
   "source": [
    "No doubt, C has the higher surviving rate. We will definetely use this information."
   ]
  },
  {
   "cell_type": "markdown",
   "metadata": {},
   "source": [
    "# 2. Feature Engineering\n",
    "\n",
    "We have learned a lot from exploratory data analysis. Now we can start feature engineering. Firstly, let's load the train and the test sets."
   ]
  },
  {
   "cell_type": "code",
   "execution_count": 17,
   "metadata": {},
   "outputs": [
    {
     "name": "stdout",
     "output_type": "stream",
     "text": [
      "<class 'pandas.core.frame.DataFrame'>\n",
      "RangeIndex: 418 entries, 0 to 417\n",
      "Data columns (total 11 columns):\n",
      " #   Column       Non-Null Count  Dtype  \n",
      "---  ------       --------------  -----  \n",
      " 0   PassengerId  418 non-null    int64  \n",
      " 1   Pclass       418 non-null    int64  \n",
      " 2   Name         418 non-null    object \n",
      " 3   Sex          418 non-null    object \n",
      " 4   Age          332 non-null    float64\n",
      " 5   SibSp        418 non-null    int64  \n",
      " 6   Parch        418 non-null    int64  \n",
      " 7   Ticket       418 non-null    object \n",
      " 8   Fare         417 non-null    float64\n",
      " 9   Cabin        91 non-null     object \n",
      " 10  Embarked     418 non-null    object \n",
      "dtypes: float64(2), int64(4), object(5)\n",
      "memory usage: 36.0+ KB\n",
      "None\n"
     ]
    }
   ],
   "source": [
    "# Load the train and the test datasets\n",
    "train = pd.read_csv(\"train.csv\")\n",
    "test = pd.read_csv(\"test.csv\")\n",
    "\n",
    "print(test.info())"
   ]
  },
  {
   "cell_type": "markdown",
   "metadata": {},
   "source": [
    "There is one missing value in the Fare column of the test set. I imputed it by using mean."
   ]
  },
  {
   "cell_type": "code",
   "execution_count": 18,
   "metadata": {},
   "outputs": [],
   "source": [
    "# Put the mean into the missing value\n",
    "test['Fare'].fillna(train['Fare'].mean(), inplace = True)"
   ]
  },
  {
   "cell_type": "markdown",
   "metadata": {},
   "source": [
    "I have used two types of Imputer from sklearn. Iterative imputer for age imputation, and Simple imputer ( with most frequent strategy) for Embarked"
   ]
  },
  {
   "cell_type": "code",
   "execution_count": 19,
   "metadata": {},
   "outputs": [],
   "source": [
    "from sklearn.impute import SimpleImputer\n",
    "from sklearn.experimental import enable_iterative_imputer\n",
    "from sklearn.impute import IterativeImputer\n",
    "\n",
    "# Imputers\n",
    "imp_embarked = SimpleImputer(missing_values=np.nan, strategy=\"most_frequent\")\n",
    "imp_age = IterativeImputer(max_iter=100, random_state=34, n_nearest_features=2)\n",
    "\n",
    "# Impute Embarked\n",
    "train[\"Embarked\"] = imp_embarked.fit_transform(train[[\"Embarked\"]])\n",
    "test[\"Embarked\"] = imp_embarked.transform(test[[\"Embarked\"]])\n",
    "\n",
    "# Impute Age\n",
    "train[\"Age\"] = np.round(imp_age.fit_transform(train[[\"Age\"]]))\n",
    "test[\"Age\"] = np.round(imp_age.transform(test[[\"Age\"]]))"
   ]
  },
  {
   "cell_type": "markdown",
   "metadata": {},
   "source": [
    "We also encode the sex column."
   ]
  },
  {
   "cell_type": "code",
   "execution_count": 20,
   "metadata": {},
   "outputs": [],
   "source": [
    "from sklearn.preprocessing import LabelEncoder\n",
    "\n",
    "# Initialize a Label Encoder\n",
    "le = LabelEncoder()\n",
    "\n",
    "# Encode Sex\n",
    "train[\"Sex\"] = le.fit_transform(train[[\"Sex\"]].values.ravel())\n",
    "test[\"Sex\"] = le.fit_transform(test[[\"Sex\"]].values.ravel())"
   ]
  },
  {
   "cell_type": "markdown",
   "metadata": {},
   "source": [
    "In EDA, we decided to use family size feature"
   ]
  },
  {
   "cell_type": "code",
   "execution_count": 21,
   "metadata": {},
   "outputs": [],
   "source": [
    "# Family Size\n",
    "train[\"Fsize\"] = train[\"SibSp\"] + train[\"Parch\"]\n",
    "test[\"Fsize\"] = test[\"SibSp\"] + test[\"Parch\"]"
   ]
  },
  {
   "cell_type": "markdown",
   "metadata": {},
   "source": [
    "Ticket first letters and Cabin first letters are also needed"
   ]
  },
  {
   "cell_type": "code",
   "execution_count": 22,
   "metadata": {},
   "outputs": [],
   "source": [
    "# Ticket first letters\n",
    "train[\"Ticket\"] = train[\"Ticket\"].apply(lambda x: str(x)[0])\n",
    "test[\"Ticket\"] = test[\"Ticket\"].apply(lambda x: str(x)[0])\n",
    "\n",
    "# Cabin first letters\n",
    "train[\"Cabin\"] = train[\"Cabin\"].apply(lambda x: str(x)[0])\n",
    "test[\"Cabin\"] = test[\"Cabin\"].apply(lambda x: str(x)[0])"
   ]
  },
  {
   "cell_type": "markdown",
   "metadata": {},
   "source": [
    "Extract the titles from the names"
   ]
  },
  {
   "cell_type": "code",
   "execution_count": 23,
   "metadata": {},
   "outputs": [],
   "source": [
    "# Titles\n",
    "train[\"Title\"] = train['Name'].str.split(', ', expand=True)[1].str.split('.', expand=True)[0]\n",
    "test[\"Title\"] = test['Name'].str.split(', ', expand=True)[1].str.split('.', expand=True)[0]"
   ]
  },
  {
   "cell_type": "markdown",
   "metadata": {},
   "source": [
    "Now, we need some helper functions to group our categories"
   ]
  },
  {
   "cell_type": "code",
   "execution_count": 24,
   "metadata": {},
   "outputs": [],
   "source": [
    "# Group the family_size column\n",
    "def assign_passenger_label(family_size):\n",
    "    if family_size == 0:\n",
    "        return \"Alone\"\n",
    "    elif family_size <=3:\n",
    "        return \"Small_family\"\n",
    "    else:\n",
    "        return \"Big_family\"\n",
    "    \n",
    "# Group the Ticket column\n",
    "def assign_label_ticket(first):\n",
    "    if first in [\"F\", \"1\", \"P\", \"9\"]:\n",
    "        return \"Ticket_high\"\n",
    "    elif first in [\"S\", \"C\", \"2\"]:\n",
    "        return \"Ticket_middle\"\n",
    "    else:\n",
    "        return \"Ticket_low\"\n",
    "    \n",
    "# Group the Title column    \n",
    "def assign_label_title(title):\n",
    "    if title in [\"the Countess\", \"Mlle\", \"Lady\", \"Ms\", \"Sir\", \"Mme\", \"Mrs\", \"Miss\", \"Master\"]:\n",
    "        return \"Title_high\"\n",
    "    elif title in [\"Major\", \"Col\", \"Dr\"]:\n",
    "        return \"Title_middle\"\n",
    "    else:\n",
    "        return \"Title_low\"\n",
    "    \n",
    "# Group the Cabin column  \n",
    "def assign_label_cabin(cabin):\n",
    "    if cabin in [\"D\", \"E\", \"B\", \"F\", \"C\"]:\n",
    "        return \"Cabin_high\"\n",
    "    elif cabin in [\"G\", \"A\"]:\n",
    "        return \"Cabin_middle\"\n",
    "    else:\n",
    "        return \"Cabin_low\""
   ]
  },
  {
   "cell_type": "markdown",
   "metadata": {},
   "source": [
    "Apply the functions."
   ]
  },
  {
   "cell_type": "code",
   "execution_count": 25,
   "metadata": {},
   "outputs": [],
   "source": [
    "# Family size\n",
    "train[\"Fsize\"] = train[\"Fsize\"].apply(assign_passenger_label)\n",
    "test[\"Fsize\"] = test[\"Fsize\"].apply(assign_passenger_label)\n",
    "\n",
    "# Ticket\n",
    "train[\"Ticket\"] = train[\"Ticket\"].apply(assign_label_ticket)\n",
    "test[\"Ticket\"] = test[\"Ticket\"].apply(assign_label_ticket)\n",
    "\n",
    "# Title\n",
    "train[\"Title\"] = train[\"Title\"].apply(assign_label_title)\n",
    "test[\"Title\"] = test[\"Title\"].apply(assign_label_title)\n",
    "\n",
    "# Cabin\n",
    "train[\"Cabin\"] = train[\"Cabin\"].apply(assign_label_cabin)\n",
    "test[\"Cabin\"] = test[\"Cabin\"].apply(assign_label_cabin)"
   ]
  },
  {
   "cell_type": "markdown",
   "metadata": {},
   "source": [
    "It's time to use One Hot Encoding"
   ]
  },
  {
   "cell_type": "code",
   "execution_count": 26,
   "metadata": {},
   "outputs": [],
   "source": [
    "train = pd.get_dummies(columns=[\"Pclass\", \"Embarked\", \"Ticket\", \"Cabin\",\"Title\", \"Fsize\"], data=train, drop_first=True)\n",
    "test = pd.get_dummies(columns=[\"Pclass\", \"Embarked\", \"Ticket\", \"Cabin\", \"Title\", \"Fsize\"], data=test, drop_first=True)"
   ]
  },
  {
   "cell_type": "markdown",
   "metadata": {},
   "source": [
    "Drop the colums that are no longer needed"
   ]
  },
  {
   "cell_type": "code",
   "execution_count": 27,
   "metadata": {},
   "outputs": [],
   "source": [
    "target = train[\"Survived\"]\n",
    "train.drop([\"Survived\", \"SibSp\", \"Parch\", \"Name\", \"PassengerId\"], axis=1, inplace=True)\n",
    "test.drop([\"SibSp\", \"Parch\", \"Name\",\"PassengerId\"], axis=1, inplace=True)"
   ]
  },
  {
   "cell_type": "markdown",
   "metadata": {},
   "source": [
    "Final look"
   ]
  },
  {
   "cell_type": "code",
   "execution_count": 28,
   "metadata": {},
   "outputs": [
    {
     "data": {
      "text/html": [
       "<div>\n",
       "<style scoped>\n",
       "    .dataframe tbody tr th:only-of-type {\n",
       "        vertical-align: middle;\n",
       "    }\n",
       "\n",
       "    .dataframe tbody tr th {\n",
       "        vertical-align: top;\n",
       "    }\n",
       "\n",
       "    .dataframe thead th {\n",
       "        text-align: right;\n",
       "    }\n",
       "</style>\n",
       "<table border=\"1\" class=\"dataframe\">\n",
       "  <thead>\n",
       "    <tr style=\"text-align: right;\">\n",
       "      <th></th>\n",
       "      <th>Sex</th>\n",
       "      <th>Age</th>\n",
       "      <th>Fare</th>\n",
       "      <th>Pclass_2</th>\n",
       "      <th>Pclass_3</th>\n",
       "      <th>Embarked_Q</th>\n",
       "      <th>Embarked_S</th>\n",
       "      <th>Ticket_Ticket_low</th>\n",
       "      <th>Ticket_Ticket_middle</th>\n",
       "      <th>Cabin_Cabin_low</th>\n",
       "      <th>Cabin_Cabin_middle</th>\n",
       "      <th>Title_Title_low</th>\n",
       "      <th>Title_Title_middle</th>\n",
       "      <th>Fsize_Big_family</th>\n",
       "      <th>Fsize_Small_family</th>\n",
       "    </tr>\n",
       "  </thead>\n",
       "  <tbody>\n",
       "    <tr>\n",
       "      <th>0</th>\n",
       "      <td>1</td>\n",
       "      <td>22.0</td>\n",
       "      <td>7.2500</td>\n",
       "      <td>0</td>\n",
       "      <td>1</td>\n",
       "      <td>0</td>\n",
       "      <td>1</td>\n",
       "      <td>1</td>\n",
       "      <td>0</td>\n",
       "      <td>1</td>\n",
       "      <td>0</td>\n",
       "      <td>1</td>\n",
       "      <td>0</td>\n",
       "      <td>0</td>\n",
       "      <td>1</td>\n",
       "    </tr>\n",
       "    <tr>\n",
       "      <th>1</th>\n",
       "      <td>0</td>\n",
       "      <td>38.0</td>\n",
       "      <td>71.2833</td>\n",
       "      <td>0</td>\n",
       "      <td>0</td>\n",
       "      <td>0</td>\n",
       "      <td>0</td>\n",
       "      <td>0</td>\n",
       "      <td>0</td>\n",
       "      <td>0</td>\n",
       "      <td>0</td>\n",
       "      <td>0</td>\n",
       "      <td>0</td>\n",
       "      <td>0</td>\n",
       "      <td>1</td>\n",
       "    </tr>\n",
       "    <tr>\n",
       "      <th>2</th>\n",
       "      <td>0</td>\n",
       "      <td>26.0</td>\n",
       "      <td>7.9250</td>\n",
       "      <td>0</td>\n",
       "      <td>1</td>\n",
       "      <td>0</td>\n",
       "      <td>1</td>\n",
       "      <td>0</td>\n",
       "      <td>1</td>\n",
       "      <td>1</td>\n",
       "      <td>0</td>\n",
       "      <td>0</td>\n",
       "      <td>0</td>\n",
       "      <td>0</td>\n",
       "      <td>0</td>\n",
       "    </tr>\n",
       "    <tr>\n",
       "      <th>3</th>\n",
       "      <td>0</td>\n",
       "      <td>35.0</td>\n",
       "      <td>53.1000</td>\n",
       "      <td>0</td>\n",
       "      <td>0</td>\n",
       "      <td>0</td>\n",
       "      <td>1</td>\n",
       "      <td>0</td>\n",
       "      <td>0</td>\n",
       "      <td>0</td>\n",
       "      <td>0</td>\n",
       "      <td>0</td>\n",
       "      <td>0</td>\n",
       "      <td>0</td>\n",
       "      <td>1</td>\n",
       "    </tr>\n",
       "    <tr>\n",
       "      <th>4</th>\n",
       "      <td>1</td>\n",
       "      <td>35.0</td>\n",
       "      <td>8.0500</td>\n",
       "      <td>0</td>\n",
       "      <td>1</td>\n",
       "      <td>0</td>\n",
       "      <td>1</td>\n",
       "      <td>1</td>\n",
       "      <td>0</td>\n",
       "      <td>1</td>\n",
       "      <td>0</td>\n",
       "      <td>1</td>\n",
       "      <td>0</td>\n",
       "      <td>0</td>\n",
       "      <td>0</td>\n",
       "    </tr>\n",
       "  </tbody>\n",
       "</table>\n",
       "</div>"
      ],
      "text/plain": [
       "   Sex   Age     Fare  Pclass_2  Pclass_3  Embarked_Q  Embarked_S  \\\n",
       "0    1  22.0   7.2500         0         1           0           1   \n",
       "1    0  38.0  71.2833         0         0           0           0   \n",
       "2    0  26.0   7.9250         0         1           0           1   \n",
       "3    0  35.0  53.1000         0         0           0           1   \n",
       "4    1  35.0   8.0500         0         1           0           1   \n",
       "\n",
       "   Ticket_Ticket_low  Ticket_Ticket_middle  Cabin_Cabin_low  \\\n",
       "0                  1                     0                1   \n",
       "1                  0                     0                0   \n",
       "2                  0                     1                1   \n",
       "3                  0                     0                0   \n",
       "4                  1                     0                1   \n",
       "\n",
       "   Cabin_Cabin_middle  Title_Title_low  Title_Title_middle  Fsize_Big_family  \\\n",
       "0                   0                1                   0                 0   \n",
       "1                   0                0                   0                 0   \n",
       "2                   0                0                   0                 0   \n",
       "3                   0                0                   0                 0   \n",
       "4                   0                1                   0                 0   \n",
       "\n",
       "   Fsize_Small_family  \n",
       "0                   1  \n",
       "1                   1  \n",
       "2                   0  \n",
       "3                   1  \n",
       "4                   0  "
      ]
     },
     "metadata": {},
     "output_type": "display_data"
    },
    {
     "data": {
      "text/html": [
       "<div>\n",
       "<style scoped>\n",
       "    .dataframe tbody tr th:only-of-type {\n",
       "        vertical-align: middle;\n",
       "    }\n",
       "\n",
       "    .dataframe tbody tr th {\n",
       "        vertical-align: top;\n",
       "    }\n",
       "\n",
       "    .dataframe thead th {\n",
       "        text-align: right;\n",
       "    }\n",
       "</style>\n",
       "<table border=\"1\" class=\"dataframe\">\n",
       "  <thead>\n",
       "    <tr style=\"text-align: right;\">\n",
       "      <th></th>\n",
       "      <th>Sex</th>\n",
       "      <th>Age</th>\n",
       "      <th>Fare</th>\n",
       "      <th>Pclass_2</th>\n",
       "      <th>Pclass_3</th>\n",
       "      <th>Embarked_Q</th>\n",
       "      <th>Embarked_S</th>\n",
       "      <th>Ticket_Ticket_low</th>\n",
       "      <th>Ticket_Ticket_middle</th>\n",
       "      <th>Cabin_Cabin_low</th>\n",
       "      <th>Cabin_Cabin_middle</th>\n",
       "      <th>Title_Title_low</th>\n",
       "      <th>Title_Title_middle</th>\n",
       "      <th>Fsize_Big_family</th>\n",
       "      <th>Fsize_Small_family</th>\n",
       "    </tr>\n",
       "  </thead>\n",
       "  <tbody>\n",
       "    <tr>\n",
       "      <th>0</th>\n",
       "      <td>1</td>\n",
       "      <td>34.0</td>\n",
       "      <td>7.8292</td>\n",
       "      <td>0</td>\n",
       "      <td>1</td>\n",
       "      <td>1</td>\n",
       "      <td>0</td>\n",
       "      <td>1</td>\n",
       "      <td>0</td>\n",
       "      <td>1</td>\n",
       "      <td>0</td>\n",
       "      <td>1</td>\n",
       "      <td>0</td>\n",
       "      <td>0</td>\n",
       "      <td>0</td>\n",
       "    </tr>\n",
       "    <tr>\n",
       "      <th>1</th>\n",
       "      <td>0</td>\n",
       "      <td>47.0</td>\n",
       "      <td>7.0000</td>\n",
       "      <td>0</td>\n",
       "      <td>1</td>\n",
       "      <td>0</td>\n",
       "      <td>1</td>\n",
       "      <td>1</td>\n",
       "      <td>0</td>\n",
       "      <td>1</td>\n",
       "      <td>0</td>\n",
       "      <td>0</td>\n",
       "      <td>0</td>\n",
       "      <td>0</td>\n",
       "      <td>1</td>\n",
       "    </tr>\n",
       "    <tr>\n",
       "      <th>2</th>\n",
       "      <td>1</td>\n",
       "      <td>62.0</td>\n",
       "      <td>9.6875</td>\n",
       "      <td>1</td>\n",
       "      <td>0</td>\n",
       "      <td>1</td>\n",
       "      <td>0</td>\n",
       "      <td>0</td>\n",
       "      <td>1</td>\n",
       "      <td>1</td>\n",
       "      <td>0</td>\n",
       "      <td>1</td>\n",
       "      <td>0</td>\n",
       "      <td>0</td>\n",
       "      <td>0</td>\n",
       "    </tr>\n",
       "    <tr>\n",
       "      <th>3</th>\n",
       "      <td>1</td>\n",
       "      <td>27.0</td>\n",
       "      <td>8.6625</td>\n",
       "      <td>0</td>\n",
       "      <td>1</td>\n",
       "      <td>0</td>\n",
       "      <td>1</td>\n",
       "      <td>1</td>\n",
       "      <td>0</td>\n",
       "      <td>1</td>\n",
       "      <td>0</td>\n",
       "      <td>1</td>\n",
       "      <td>0</td>\n",
       "      <td>0</td>\n",
       "      <td>0</td>\n",
       "    </tr>\n",
       "    <tr>\n",
       "      <th>4</th>\n",
       "      <td>0</td>\n",
       "      <td>22.0</td>\n",
       "      <td>12.2875</td>\n",
       "      <td>0</td>\n",
       "      <td>1</td>\n",
       "      <td>0</td>\n",
       "      <td>1</td>\n",
       "      <td>1</td>\n",
       "      <td>0</td>\n",
       "      <td>1</td>\n",
       "      <td>0</td>\n",
       "      <td>0</td>\n",
       "      <td>0</td>\n",
       "      <td>0</td>\n",
       "      <td>1</td>\n",
       "    </tr>\n",
       "  </tbody>\n",
       "</table>\n",
       "</div>"
      ],
      "text/plain": [
       "   Sex   Age     Fare  Pclass_2  Pclass_3  Embarked_Q  Embarked_S  \\\n",
       "0    1  34.0   7.8292         0         1           1           0   \n",
       "1    0  47.0   7.0000         0         1           0           1   \n",
       "2    1  62.0   9.6875         1         0           1           0   \n",
       "3    1  27.0   8.6625         0         1           0           1   \n",
       "4    0  22.0  12.2875         0         1           0           1   \n",
       "\n",
       "   Ticket_Ticket_low  Ticket_Ticket_middle  Cabin_Cabin_low  \\\n",
       "0                  1                     0                1   \n",
       "1                  1                     0                1   \n",
       "2                  0                     1                1   \n",
       "3                  1                     0                1   \n",
       "4                  1                     0                1   \n",
       "\n",
       "   Cabin_Cabin_middle  Title_Title_low  Title_Title_middle  Fsize_Big_family  \\\n",
       "0                   0                1                   0                 0   \n",
       "1                   0                0                   0                 0   \n",
       "2                   0                1                   0                 0   \n",
       "3                   0                1                   0                 0   \n",
       "4                   0                0                   0                 0   \n",
       "\n",
       "   Fsize_Small_family  \n",
       "0                   0  \n",
       "1                   1  \n",
       "2                   0  \n",
       "3                   0  \n",
       "4                   1  "
      ]
     },
     "metadata": {},
     "output_type": "display_data"
    },
    {
     "name": "stdout",
     "output_type": "stream",
     "text": [
      "<class 'pandas.core.frame.DataFrame'>\n",
      "RangeIndex: 891 entries, 0 to 890\n",
      "Data columns (total 15 columns):\n",
      " #   Column                Non-Null Count  Dtype  \n",
      "---  ------                --------------  -----  \n",
      " 0   Sex                   891 non-null    int64  \n",
      " 1   Age                   891 non-null    float64\n",
      " 2   Fare                  891 non-null    float64\n",
      " 3   Pclass_2              891 non-null    uint8  \n",
      " 4   Pclass_3              891 non-null    uint8  \n",
      " 5   Embarked_Q            891 non-null    uint8  \n",
      " 6   Embarked_S            891 non-null    uint8  \n",
      " 7   Ticket_Ticket_low     891 non-null    uint8  \n",
      " 8   Ticket_Ticket_middle  891 non-null    uint8  \n",
      " 9   Cabin_Cabin_low       891 non-null    uint8  \n",
      " 10  Cabin_Cabin_middle    891 non-null    uint8  \n",
      " 11  Title_Title_low       891 non-null    uint8  \n",
      " 12  Title_Title_middle    891 non-null    uint8  \n",
      " 13  Fsize_Big_family      891 non-null    uint8  \n",
      " 14  Fsize_Small_family    891 non-null    uint8  \n",
      "dtypes: float64(2), int64(1), uint8(12)\n",
      "memory usage: 31.4 KB\n",
      "None\n",
      "<class 'pandas.core.frame.DataFrame'>\n",
      "RangeIndex: 418 entries, 0 to 417\n",
      "Data columns (total 15 columns):\n",
      " #   Column                Non-Null Count  Dtype  \n",
      "---  ------                --------------  -----  \n",
      " 0   Sex                   418 non-null    int64  \n",
      " 1   Age                   418 non-null    float64\n",
      " 2   Fare                  418 non-null    float64\n",
      " 3   Pclass_2              418 non-null    uint8  \n",
      " 4   Pclass_3              418 non-null    uint8  \n",
      " 5   Embarked_Q            418 non-null    uint8  \n",
      " 6   Embarked_S            418 non-null    uint8  \n",
      " 7   Ticket_Ticket_low     418 non-null    uint8  \n",
      " 8   Ticket_Ticket_middle  418 non-null    uint8  \n",
      " 9   Cabin_Cabin_low       418 non-null    uint8  \n",
      " 10  Cabin_Cabin_middle    418 non-null    uint8  \n",
      " 11  Title_Title_low       418 non-null    uint8  \n",
      " 12  Title_Title_middle    418 non-null    uint8  \n",
      " 13  Fsize_Big_family      418 non-null    uint8  \n",
      " 14  Fsize_Small_family    418 non-null    uint8  \n",
      "dtypes: float64(2), int64(1), uint8(12)\n",
      "memory usage: 14.8 KB\n",
      "None\n"
     ]
    }
   ],
   "source": [
    "display(train.head())\n",
    "display(test.head())\n",
    "\n",
    "print(train.info())\n",
    "print(test.info())"
   ]
  },
  {
   "cell_type": "markdown",
   "metadata": {},
   "source": [
    "# 3. Machine Learning"
   ]
  },
  {
   "cell_type": "markdown",
   "metadata": {},
   "source": [
    "To evaluate our model's performance, we need to split our train data into training and test sets."
   ]
  },
  {
   "cell_type": "code",
   "execution_count": 29,
   "metadata": {},
   "outputs": [],
   "source": [
    "from sklearn.model_selection import train_test_split\n",
    "\n",
    "# Select the features and the target\n",
    "X = train.values\n",
    "y = target.values\n",
    "\n",
    "# Split the data info training and test sets\n",
    "X_train, X_test, y_train, y_test = train_test_split(X, y, test_size=0.2, random_state=34, stratify=y)"
   ]
  },
  {
   "cell_type": "markdown",
   "metadata": {},
   "source": [
    "I have used GridSearchCV for tuning my Random Forest Classifier"
   ]
  },
  {
   "cell_type": "code",
   "execution_count": 30,
   "metadata": {},
   "outputs": [],
   "source": [
    "# Import Necessary libraries\n",
    "from sklearn.ensemble import RandomForestClassifier\n",
    "from sklearn.model_selection import cross_val_score\n",
    "from sklearn.model_selection import GridSearchCV, RandomizedSearchCV\n",
    "from sklearn.metrics import accuracy_score, roc_auc_score, confusion_matrix, classification_report\n",
    "\n",
    "# Initialize a RandomForestClassifier\n",
    "rf = RandomForestClassifier(random_state=34)\n",
    "\n",
    "params = {'n_estimators': [50, 100, 200, 300, 350],\n",
    "          'max_depth': [3,4,5,7, 10,15,20],\n",
    "          'criterion':['entropy', 'gini'],\n",
    "          'min_samples_leaf' : [1, 2, 3, 4, 5, 10],\n",
    "          'max_features':['auto'],\n",
    "          'min_samples_split': [3, 5, 10, 15, 20],\n",
    "          'max_leaf_nodes':[2,3,4,5],\n",
    "          }\n",
    "\n"
   ]
  },
  {
   "cell_type": "code",
   "execution_count": null,
   "metadata": {},
   "outputs": [],
   "source": [
    "clf = GridSearchCV(estimator=rf,param_grid=params,cv=10, n_jobs=-1)\n",
    "\n",
    "clf.fit(X_train, y_train.ravel())\n",
    "\n",
    "print(clf.best_estimator_)\n",
    "print(clf.best_score_)\n",
    "\n",
    "rf_best = clf.best_estimator_\n",
    "\n",
    "# Predict from the test set\n",
    "y_pred = clf.predict(X_test)\n",
    "\n",
    "# Print the accuracy with accuracy_score function\n",
    "print(\"Accuracy: \", accuracy_score(y_test, y_pred))\n",
    "\n",
    "# Print the confusion matrix\n",
    "print(\"\\nConfusion Matrix\\n\")\n",
    "print(confusion_matrix(y_test, y_pred))"
   ]
  },
  {
   "cell_type": "markdown",
   "metadata": {},
   "source": [
    "Save the model"
   ]
  },
  {
   "cell_type": "code",
   "execution_count": null,
   "metadata": {},
   "outputs": [],
   "source": [
    "pickle.dump(rf_best, open(\"model.pkl\", 'wb'))"
   ]
  },
  {
   "cell_type": "markdown",
   "metadata": {},
   "source": [
    "We can look at the feature importances."
   ]
  },
  {
   "cell_type": "code",
   "execution_count": null,
   "metadata": {},
   "outputs": [],
   "source": [
    "# Create a pandas series with feature importances\n",
    "importance = pd.Series(rf_best.feature_importances_,index=train.columns).sort_values(ascending=False)\n",
    "\n",
    "sns.barplot(x=importance, y=importance.index)\n",
    "# Add labels to your graph\n",
    "plt.xlabel('Importance')\n",
    "plt.ylabel('Feature')\n",
    "plt.title(\"Important Features\")\n",
    "plt.show()"
   ]
  },
  {
   "cell_type": "markdown",
   "metadata": {},
   "source": [
    "Train the model again with entire train data."
   ]
  },
  {
   "cell_type": "code",
   "execution_count": null,
   "metadata": {},
   "outputs": [],
   "source": [
    "last_clf = RandomForestClassifier(bootstrap=True, ccp_alpha=0.0, class_weight=None,\n",
    "                       criterion='gini', max_depth=4, max_features='auto',\n",
    "                       max_leaf_nodes=5, max_samples=None,\n",
    "                       min_impurity_decrease=0.0, min_impurity_split=None,\n",
    "                       min_samples_leaf=1, min_samples_split=15,\n",
    "                       min_weight_fraction_leaf=0.0, n_estimators=350,\n",
    "                       n_jobs=None, oob_score=True, random_state=34, verbose=0,\n",
    "                       warm_start=False)\n",
    "\n",
    "last_clf.fit(train, target)\n",
    "print(\"%.4f\" % last_clf.oob_score_)"
   ]
  },
  {
   "cell_type": "markdown",
   "metadata": {},
   "source": [
    "Prepare the submission file"
   ]
  },
  {
   "cell_type": "code",
   "execution_count": null,
   "metadata": {},
   "outputs": [],
   "source": [
    "# Store passenger ids\n",
    "ids = pd.read_csv(\"test.csv\")[[\"PassengerId\"]].values\n",
    "\n",
    "# Make predictions\n",
    "predictions = last_clf.predict(test.values)\n",
    "\n",
    "# Print the predictions\n",
    "print(predictions)\n",
    "\n",
    "# Create a dictionary with passenger ids and predictions\n",
    "df = {'PassengerId': ids.ravel(), 'Survived':predictions}\n",
    "\n",
    "# Create a DataFrame named submission\n",
    "submission = pd.DataFrame(df)\n",
    "\n",
    "# Display the first five rows of submission\n",
    "display(submission.head())\n",
    "\n",
    "# Save the file\n",
    "submission.to_csv(\"submission_last.csv\", index=False)"
   ]
  }
 ],
 "metadata": {
  "kernelspec": {
   "display_name": "Python 3 (ipykernel)",
   "language": "python",
   "name": "python3"
  },
  "language_info": {
   "codemirror_mode": {
    "name": "ipython",
    "version": 3
   },
   "file_extension": ".py",
   "mimetype": "text/x-python",
   "name": "python",
   "nbconvert_exporter": "python",
   "pygments_lexer": "ipython3",
   "version": "3.8.10"
  }
 },
 "nbformat": 4,
 "nbformat_minor": 4
}
